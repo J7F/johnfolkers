{
 "cells": [
  {
   "cell_type": "code",
   "execution_count": 1,
   "id": "9da589d0-259c-4193-a081-d80b34f1c750",
   "metadata": {},
   "outputs": [],
   "source": [
    "import pandas as pd"
   ]
  },
  {
   "cell_type": "code",
   "execution_count": 2,
   "id": "e312ccb8-bded-46ec-a74d-a506fd05c1b1",
   "metadata": {},
   "outputs": [],
   "source": [
    "psql_datapath=str('/data/projects/sec/drop3/data/2.postgresql/')"
   ]
  },
  {
   "cell_type": "code",
   "execution_count": 3,
   "id": "8d09e997-57ad-4bd8-9ea3-3229ab490798",
   "metadata": {},
   "outputs": [],
   "source": [
    "events = pd.read_csv(psql_datapath + 'e69_peaksum.csv')"
   ]
  },
  {
   "cell_type": "code",
   "execution_count": 4,
   "id": "b9fceb87-f1b0-45db-9cef-0fb1a101467e",
   "metadata": {},
   "outputs": [
    {
     "name": "stdout",
     "output_type": "stream",
     "text": [
      "Shape of data(1731, 15)\n"
     ]
    },
    {
     "data": {
      "text/html": [
       "<div>\n",
       "<style scoped>\n",
       "    .dataframe tbody tr th:only-of-type {\n",
       "        vertical-align: middle;\n",
       "    }\n",
       "\n",
       "    .dataframe tbody tr th {\n",
       "        vertical-align: top;\n",
       "    }\n",
       "\n",
       "    .dataframe thead th {\n",
       "        text-align: right;\n",
       "    }\n",
       "</style>\n",
       "<table border=\"1\" class=\"dataframe\">\n",
       "  <thead>\n",
       "    <tr style=\"text-align: right;\">\n",
       "      <th></th>\n",
       "      <th>a</th>\n",
       "      <th>ac_doy_sum_peak</th>\n",
       "      <th>ac_week_sum_peak</th>\n",
       "      <th>ac_month_sum_peak</th>\n",
       "      <th>ad_doy_sum_peak</th>\n",
       "      <th>ad_week_sum_peak</th>\n",
       "      <th>ad_month_sum_peak</th>\n",
       "      <th>ae_doy_sum_peak</th>\n",
       "      <th>ae_week_sum_peak</th>\n",
       "      <th>ae_month_sum_peak</th>\n",
       "      <th>af_doy_sum_peak</th>\n",
       "      <th>af_week_sum_peak</th>\n",
       "      <th>af_month_sum_peak</th>\n",
       "      <th>weekend</th>\n",
       "      <th>lift5</th>\n",
       "    </tr>\n",
       "  </thead>\n",
       "  <tbody>\n",
       "    <tr>\n",
       "      <th>0</th>\n",
       "      <td>aallen</td>\n",
       "      <td>4</td>\n",
       "      <td>7</td>\n",
       "      <td>12</td>\n",
       "      <td>3</td>\n",
       "      <td>8</td>\n",
       "      <td>23</td>\n",
       "      <td>4</td>\n",
       "      <td>7</td>\n",
       "      <td>22</td>\n",
       "      <td>4</td>\n",
       "      <td>7</td>\n",
       "      <td>22</td>\n",
       "      <td>1</td>\n",
       "      <td>1</td>\n",
       "    </tr>\n",
       "    <tr>\n",
       "      <th>1</th>\n",
       "      <td>aasoeva</td>\n",
       "      <td>3</td>\n",
       "      <td>6</td>\n",
       "      <td>15</td>\n",
       "      <td>3</td>\n",
       "      <td>9</td>\n",
       "      <td>17</td>\n",
       "      <td>3</td>\n",
       "      <td>10</td>\n",
       "      <td>17</td>\n",
       "      <td>3</td>\n",
       "      <td>10</td>\n",
       "      <td>17</td>\n",
       "      <td>1</td>\n",
       "      <td>0</td>\n",
       "    </tr>\n",
       "    <tr>\n",
       "      <th>2</th>\n",
       "      <td>aault</td>\n",
       "      <td>3</td>\n",
       "      <td>8</td>\n",
       "      <td>24</td>\n",
       "      <td>3</td>\n",
       "      <td>9</td>\n",
       "      <td>30</td>\n",
       "      <td>3</td>\n",
       "      <td>9</td>\n",
       "      <td>28</td>\n",
       "      <td>3</td>\n",
       "      <td>9</td>\n",
       "      <td>28</td>\n",
       "      <td>1</td>\n",
       "      <td>1</td>\n",
       "    </tr>\n",
       "    <tr>\n",
       "      <th>3</th>\n",
       "      <td>aazouri</td>\n",
       "      <td>3</td>\n",
       "      <td>8</td>\n",
       "      <td>31</td>\n",
       "      <td>2</td>\n",
       "      <td>7</td>\n",
       "      <td>27</td>\n",
       "      <td>2</td>\n",
       "      <td>7</td>\n",
       "      <td>19</td>\n",
       "      <td>2</td>\n",
       "      <td>7</td>\n",
       "      <td>19</td>\n",
       "      <td>1</td>\n",
       "      <td>0</td>\n",
       "    </tr>\n",
       "    <tr>\n",
       "      <th>4</th>\n",
       "      <td>abaig</td>\n",
       "      <td>6</td>\n",
       "      <td>10</td>\n",
       "      <td>17</td>\n",
       "      <td>7</td>\n",
       "      <td>12</td>\n",
       "      <td>28</td>\n",
       "      <td>7</td>\n",
       "      <td>12</td>\n",
       "      <td>29</td>\n",
       "      <td>7</td>\n",
       "      <td>12</td>\n",
       "      <td>29</td>\n",
       "      <td>1</td>\n",
       "      <td>1</td>\n",
       "    </tr>\n",
       "  </tbody>\n",
       "</table>\n",
       "</div>"
      ],
      "text/plain": [
       "         a  ac_doy_sum_peak  ac_week_sum_peak  ac_month_sum_peak  \\\n",
       "0   aallen                4                 7                 12   \n",
       "1  aasoeva                3                 6                 15   \n",
       "2    aault                3                 8                 24   \n",
       "3  aazouri                3                 8                 31   \n",
       "4    abaig                6                10                 17   \n",
       "\n",
       "   ad_doy_sum_peak  ad_week_sum_peak  ad_month_sum_peak  ae_doy_sum_peak  \\\n",
       "0                3                 8                 23                4   \n",
       "1                3                 9                 17                3   \n",
       "2                3                 9                 30                3   \n",
       "3                2                 7                 27                2   \n",
       "4                7                12                 28                7   \n",
       "\n",
       "   ae_week_sum_peak  ae_month_sum_peak  af_doy_sum_peak  af_week_sum_peak  \\\n",
       "0                 7                 22                4                 7   \n",
       "1                10                 17                3                10   \n",
       "2                 9                 28                3                 9   \n",
       "3                 7                 19                2                 7   \n",
       "4                12                 29                7                12   \n",
       "\n",
       "   af_month_sum_peak  weekend  lift5  \n",
       "0                 22        1      1  \n",
       "1                 17        1      0  \n",
       "2                 28        1      1  \n",
       "3                 19        1      0  \n",
       "4                 29        1      1  "
      ]
     },
     "execution_count": 4,
     "metadata": {},
     "output_type": "execute_result"
    }
   ],
   "source": [
    "print(\"Shape of data{}\".format(events.shape))\n",
    "events.head()"
   ]
  },
  {
   "cell_type": "code",
   "execution_count": 5,
   "id": "c42594cf-ce4b-446a-940d-6d05a2586776",
   "metadata": {},
   "outputs": [
    {
     "name": "stdout",
     "output_type": "stream",
     "text": [
      "<class 'pandas.core.frame.DataFrame'>\n",
      "RangeIndex: 1731 entries, 0 to 1730\n",
      "Data columns (total 15 columns):\n",
      " #   Column             Non-Null Count  Dtype \n",
      "---  ------             --------------  ----- \n",
      " 0   a                  1731 non-null   object\n",
      " 1   ac_doy_sum_peak    1731 non-null   int64 \n",
      " 2   ac_week_sum_peak   1731 non-null   int64 \n",
      " 3   ac_month_sum_peak  1731 non-null   int64 \n",
      " 4   ad_doy_sum_peak    1731 non-null   int64 \n",
      " 5   ad_week_sum_peak   1731 non-null   int64 \n",
      " 6   ad_month_sum_peak  1731 non-null   int64 \n",
      " 7   ae_doy_sum_peak    1731 non-null   int64 \n",
      " 8   ae_week_sum_peak   1731 non-null   int64 \n",
      " 9   ae_month_sum_peak  1731 non-null   int64 \n",
      " 10  af_doy_sum_peak    1731 non-null   int64 \n",
      " 11  af_week_sum_peak   1731 non-null   int64 \n",
      " 12  af_month_sum_peak  1731 non-null   int64 \n",
      " 13  weekend            1731 non-null   int64 \n",
      " 14  lift5              1731 non-null   int64 \n",
      "dtypes: int64(14), object(1)\n",
      "memory usage: 203.0+ KB\n"
     ]
    }
   ],
   "source": [
    "events.info()"
   ]
  },
  {
   "cell_type": "code",
   "execution_count": null,
   "id": "e3a44cbf-e770-48c0-b6f1-37d282775f33",
   "metadata": {},
   "outputs": [],
   "source": []
  },
  {
   "cell_type": "code",
   "execution_count": 6,
   "id": "67b38096-6411-49dc-8b02-336ed002f538",
   "metadata": {},
   "outputs": [],
   "source": [
    "import seaborn as sns"
   ]
  },
  {
   "cell_type": "code",
   "execution_count": 7,
   "id": "748f9a5e-97e2-4e1f-bef8-600155aa6960",
   "metadata": {},
   "outputs": [],
   "source": [
    "%matplotlib inline"
   ]
  },
  {
   "cell_type": "code",
   "execution_count": 8,
   "id": "8dc1bfb4-cf5f-4ecf-a57d-86201fb91fb3",
   "metadata": {},
   "outputs": [],
   "source": [
    "corr = events.corr()"
   ]
  },
  {
   "cell_type": "code",
   "execution_count": 9,
   "id": "371f4c21-b6da-42a6-a49d-7972399ff2c2",
   "metadata": {},
   "outputs": [
    {
     "data": {
      "text/plain": [
       "<AxesSubplot:>"
      ]
     },
     "execution_count": 9,
     "metadata": {},
     "output_type": "execute_result"
    },
    {
     "data": {
      "image/png": "[encoded data removed]",
      "text/plain": [
       "<Figure size 432x288 with 2 Axes>"
      ]
     },
     "metadata": {
      "needs_background": "light"
     },
     "output_type": "display_data"
    }
   ],
   "source": [
    "sns.heatmap(corr,\n",
    "            xticklabels=corr.columns,\n",
    "            yticklabels=corr.columns)"
   ]
  },
  {
   "cell_type": "code",
   "execution_count": null,
   "id": "f06669cd-724e-469a-b0fa-81575180f766",
   "metadata": {},
   "outputs": [],
   "source": []
  },
  {
   "cell_type": "code",
   "execution_count": 10,
   "id": "e415e55e-19f9-45f3-a3da-34524fe7d510",
   "metadata": {},
   "outputs": [
    {
     "data": {
      "text/html": [
       "<style type=\"text/css\">\n",
       "#T_8d495_row9_col1 {\n",
       "  background-color: lightgreen;\n",
       "}\n",
       "</style>\n",
       "<table id=\"T_8d495\">\n",
       "  <thead>\n",
       "    <tr>\n",
       "      <th class=\"blank level0\" >&nbsp;</th>\n",
       "      <th id=\"T_8d495_level0_col0\" class=\"col_heading level0 col0\" >Description</th>\n",
       "      <th id=\"T_8d495_level0_col1\" class=\"col_heading level0 col1\" >Value</th>\n",
       "    </tr>\n",
       "  </thead>\n",
       "  <tbody>\n",
       "    <tr>\n",
       "      <th id=\"T_8d495_level0_row0\" class=\"row_heading level0 row0\" >0</th>\n",
       "      <td id=\"T_8d495_row0_col0\" class=\"data row0 col0\" >Session id</td>\n",
       "      <td id=\"T_8d495_row0_col1\" class=\"data row0 col1\" >2043</td>\n",
       "    </tr>\n",
       "    <tr>\n",
       "      <th id=\"T_8d495_level0_row1\" class=\"row_heading level0 row1\" >1</th>\n",
       "      <td id=\"T_8d495_row1_col0\" class=\"data row1 col0\" >Target</td>\n",
       "      <td id=\"T_8d495_row1_col1\" class=\"data row1 col1\" >lift5</td>\n",
       "    </tr>\n",
       "    <tr>\n",
       "      <th id=\"T_8d495_level0_row2\" class=\"row_heading level0 row2\" >2</th>\n",
       "      <td id=\"T_8d495_row2_col0\" class=\"data row2 col0\" >Target type</td>\n",
       "      <td id=\"T_8d495_row2_col1\" class=\"data row2 col1\" >Binary</td>\n",
       "    </tr>\n",
       "    <tr>\n",
       "      <th id=\"T_8d495_level0_row3\" class=\"row_heading level0 row3\" >3</th>\n",
       "      <td id=\"T_8d495_row3_col0\" class=\"data row3 col0\" >Original data shape</td>\n",
       "      <td id=\"T_8d495_row3_col1\" class=\"data row3 col1\" >(1731, 15)</td>\n",
       "    </tr>\n",
       "    <tr>\n",
       "      <th id=\"T_8d495_level0_row4\" class=\"row_heading level0 row4\" >4</th>\n",
       "      <td id=\"T_8d495_row4_col0\" class=\"data row4 col0\" >Transformed data shape</td>\n",
       "      <td id=\"T_8d495_row4_col1\" class=\"data row4 col1\" >(1731, 14)</td>\n",
       "    </tr>\n",
       "    <tr>\n",
       "      <th id=\"T_8d495_level0_row5\" class=\"row_heading level0 row5\" >5</th>\n",
       "      <td id=\"T_8d495_row5_col0\" class=\"data row5 col0\" >Transformed train set shape</td>\n",
       "      <td id=\"T_8d495_row5_col1\" class=\"data row5 col1\" >(1211, 14)</td>\n",
       "    </tr>\n",
       "    <tr>\n",
       "      <th id=\"T_8d495_level0_row6\" class=\"row_heading level0 row6\" >6</th>\n",
       "      <td id=\"T_8d495_row6_col0\" class=\"data row6 col0\" >Transformed test set shape</td>\n",
       "      <td id=\"T_8d495_row6_col1\" class=\"data row6 col1\" >(520, 14)</td>\n",
       "    </tr>\n",
       "    <tr>\n",
       "      <th id=\"T_8d495_level0_row7\" class=\"row_heading level0 row7\" >7</th>\n",
       "      <td id=\"T_8d495_row7_col0\" class=\"data row7 col0\" >Numeric features</td>\n",
       "      <td id=\"T_8d495_row7_col1\" class=\"data row7 col1\" >13</td>\n",
       "    </tr>\n",
       "    <tr>\n",
       "      <th id=\"T_8d495_level0_row8\" class=\"row_heading level0 row8\" >8</th>\n",
       "      <td id=\"T_8d495_row8_col0\" class=\"data row8 col0\" >Categorical features</td>\n",
       "      <td id=\"T_8d495_row8_col1\" class=\"data row8 col1\" >1</td>\n",
       "    </tr>\n",
       "    <tr>\n",
       "      <th id=\"T_8d495_level0_row9\" class=\"row_heading level0 row9\" >9</th>\n",
       "      <td id=\"T_8d495_row9_col0\" class=\"data row9 col0\" >Preprocess</td>\n",
       "      <td id=\"T_8d495_row9_col1\" class=\"data row9 col1\" >True</td>\n",
       "    </tr>\n",
       "    <tr>\n",
       "      <th id=\"T_8d495_level0_row10\" class=\"row_heading level0 row10\" >10</th>\n",
       "      <td id=\"T_8d495_row10_col0\" class=\"data row10 col0\" >Imputation type</td>\n",
       "      <td id=\"T_8d495_row10_col1\" class=\"data row10 col1\" >simple</td>\n",
       "    </tr>\n",
       "    <tr>\n",
       "      <th id=\"T_8d495_level0_row11\" class=\"row_heading level0 row11\" >11</th>\n",
       "      <td id=\"T_8d495_row11_col0\" class=\"data row11 col0\" >Numeric imputation</td>\n",
       "      <td id=\"T_8d495_row11_col1\" class=\"data row11 col1\" >mean</td>\n",
       "    </tr>\n",
       "    <tr>\n",
       "      <th id=\"T_8d495_level0_row12\" class=\"row_heading level0 row12\" >12</th>\n",
       "      <td id=\"T_8d495_row12_col0\" class=\"data row12 col0\" >Categorical imputation</td>\n",
       "      <td id=\"T_8d495_row12_col1\" class=\"data row12 col1\" >constant</td>\n",
       "    </tr>\n",
       "    <tr>\n",
       "      <th id=\"T_8d495_level0_row13\" class=\"row_heading level0 row13\" >13</th>\n",
       "      <td id=\"T_8d495_row13_col0\" class=\"data row13 col0\" >Maximum one-hot encoding</td>\n",
       "      <td id=\"T_8d495_row13_col1\" class=\"data row13 col1\" >5</td>\n",
       "    </tr>\n",
       "    <tr>\n",
       "      <th id=\"T_8d495_level0_row14\" class=\"row_heading level0 row14\" >14</th>\n",
       "      <td id=\"T_8d495_row14_col0\" class=\"data row14 col0\" >Encoding method</td>\n",
       "      <td id=\"T_8d495_row14_col1\" class=\"data row14 col1\" >None</td>\n",
       "    </tr>\n",
       "    <tr>\n",
       "      <th id=\"T_8d495_level0_row15\" class=\"row_heading level0 row15\" >15</th>\n",
       "      <td id=\"T_8d495_row15_col0\" class=\"data row15 col0\" >Low variance threshold</td>\n",
       "      <td id=\"T_8d495_row15_col1\" class=\"data row15 col1\" >0</td>\n",
       "    </tr>\n",
       "    <tr>\n",
       "      <th id=\"T_8d495_level0_row16\" class=\"row_heading level0 row16\" >16</th>\n",
       "      <td id=\"T_8d495_row16_col0\" class=\"data row16 col0\" >Fold Generator</td>\n",
       "      <td id=\"T_8d495_row16_col1\" class=\"data row16 col1\" >StratifiedKFold</td>\n",
       "    </tr>\n",
       "    <tr>\n",
       "      <th id=\"T_8d495_level0_row17\" class=\"row_heading level0 row17\" >17</th>\n",
       "      <td id=\"T_8d495_row17_col0\" class=\"data row17 col0\" >Fold Number</td>\n",
       "      <td id=\"T_8d495_row17_col1\" class=\"data row17 col1\" >10</td>\n",
       "    </tr>\n",
       "    <tr>\n",
       "      <th id=\"T_8d495_level0_row18\" class=\"row_heading level0 row18\" >18</th>\n",
       "      <td id=\"T_8d495_row18_col0\" class=\"data row18 col0\" >CPU Jobs</td>\n",
       "      <td id=\"T_8d495_row18_col1\" class=\"data row18 col1\" >-1</td>\n",
       "    </tr>\n",
       "    <tr>\n",
       "      <th id=\"T_8d495_level0_row19\" class=\"row_heading level0 row19\" >19</th>\n",
       "      <td id=\"T_8d495_row19_col0\" class=\"data row19 col0\" >Use GPU</td>\n",
       "      <td id=\"T_8d495_row19_col1\" class=\"data row19 col1\" >False</td>\n",
       "    </tr>\n",
       "    <tr>\n",
       "      <th id=\"T_8d495_level0_row20\" class=\"row_heading level0 row20\" >20</th>\n",
       "      <td id=\"T_8d495_row20_col0\" class=\"data row20 col0\" >Log Experiment</td>\n",
       "      <td id=\"T_8d495_row20_col1\" class=\"data row20 col1\" >False</td>\n",
       "    </tr>\n",
       "    <tr>\n",
       "      <th id=\"T_8d495_level0_row21\" class=\"row_heading level0 row21\" >21</th>\n",
       "      <td id=\"T_8d495_row21_col0\" class=\"data row21 col0\" >Experiment Name</td>\n",
       "      <td id=\"T_8d495_row21_col1\" class=\"data row21 col1\" >clf-default-name</td>\n",
       "    </tr>\n",
       "    <tr>\n",
       "      <th id=\"T_8d495_level0_row22\" class=\"row_heading level0 row22\" >22</th>\n",
       "      <td id=\"T_8d495_row22_col0\" class=\"data row22 col0\" >USI</td>\n",
       "      <td id=\"T_8d495_row22_col1\" class=\"data row22 col1\" >fdfa</td>\n",
       "    </tr>\n",
       "  </tbody>\n",
       "</table>\n"
      ],
      "text/plain": [
       "<pandas.io.formats.style.Styler at 0x7ffa3c4f3fa0>"
      ]
     },
     "metadata": {},
     "output_type": "display_data"
    }
   ],
   "source": [
    "from pycaret.classification import *\n",
    "s = setup(events, target = 'lift5')"
   ]
  },
  {
   "cell_type": "code",
   "execution_count": 16,
   "id": "4762182a-c964-4eb0-8d84-1b18f5987b00",
   "metadata": {},
   "outputs": [],
   "source": [
    "# f1 = compare_models(sort='F1')"
   ]
  },
  {
   "cell_type": "code",
   "execution_count": 18,
   "id": "c98c7d5b-77d8-4553-96c2-573e0b9d8f17",
   "metadata": {},
   "outputs": [],
   "source": [
    "# best = compare_models()"
   ]
  },
  {
   "cell_type": "code",
   "execution_count": 19,
   "id": "6e13e9f5-0073-4672-8201-17aeff073ea6",
   "metadata": {},
   "outputs": [],
   "source": [
    "# plot_model(best, plot='auc')"
   ]
  },
  {
   "cell_type": "code",
   "execution_count": 20,
   "id": "670e9778-761e-485b-8c70-0c81672c83d8",
   "metadata": {},
   "outputs": [],
   "source": [
    "# plot_model(best, plot='confusion_matrix')"
   ]
  },
  {
   "cell_type": "code",
   "execution_count": 21,
   "id": "a8c1e506-d15e-46c9-bf1f-ffbda7aa0f36",
   "metadata": {},
   "outputs": [],
   "source": [
    "# plot_model(best, plot='feature')"
   ]
  },
  {
   "cell_type": "code",
   "execution_count": 22,
   "id": "43cfbbc6-f63f-4f30-821e-75f37cce926a",
   "metadata": {},
   "outputs": [],
   "source": [
    "# plot_model(best, plot='threshold')"
   ]
  },
  {
   "cell_type": "code",
   "execution_count": 11,
   "id": "c7ac4d97-4526-4ca8-81a5-18617bea84e8",
   "metadata": {},
   "outputs": [],
   "source": [
    "# xgb = create_model('xgboost',ensemble=True,method='Bagging')"
   ]
  },
  {
   "cell_type": "code",
   "execution_count": 24,
   "id": "135d6475-87c9-4c7c-9a46-f75041641dc7",
   "metadata": {},
   "outputs": [
    {
     "name": "stdout",
     "output_type": "stream",
     "text": [
      "Transformation Pipeline and Model Successfully Saved\n"
     ]
    },
    {
     "data": {
      "text/plain": [
       "(Pipeline(memory=Memory(location=/tmp/joblib),\n",
       "          steps=[('numerical_imputer',\n",
       "                  TransformerWrapper(exclude=None,\n",
       "                                     include=['ac_doy_sum_peak',\n",
       "                                              'ac_week_sum_peak',\n",
       "                                              'ac_month_sum_peak',\n",
       "                                              'ad_doy_sum_peak',\n",
       "                                              'ad_week_sum_peak',\n",
       "                                              'ad_month_sum_peak',\n",
       "                                              'ae_doy_sum_peak',\n",
       "                                              'ae_week_sum_peak',\n",
       "                                              'ae_month_sum_peak',\n",
       "                                              'af_doy_sum_peak',\n",
       "                                              'af_week_sum_peak',\n",
       "                                              'af_month_sum_peak', 'weekend...\n",
       "                                     transformer=LeaveOneOutEncoder(cols=['a'],\n",
       "                                                                    drop_invariant=False,\n",
       "                                                                    handle_missing='return_nan',\n",
       "                                                                    handle_unknown='value',\n",
       "                                                                    random_state=2043,\n",
       "                                                                    return_df=True,\n",
       "                                                                    sigma=None,\n",
       "                                                                    verbose=0))),\n",
       "                 ('low_variance',\n",
       "                  TransformerWrapper(exclude=[], include=None,\n",
       "                                     transformer=VarianceThreshold(threshold=0))),\n",
       "                 ['trained_model',\n",
       "                  <catboost.core.CatBoostClassifier object at 0x7ffa3c407700>]],\n",
       "          verbose=False),\n",
       " 'JFCLASS_LIFT5-MODEL-CB-v1.pkl')"
      ]
     },
     "execution_count": 24,
     "metadata": {},
     "output_type": "execute_result"
    }
   ],
   "source": [
    "save_model(cb_tuned, 'JFCLASS_LIFT5-MODEL-CB-v1')"
   ]
  },
  {
   "cell_type": "code",
   "execution_count": 13,
   "id": "d766f143-5c68-4083-9bdd-34cdc45b0f9a",
   "metadata": {},
   "outputs": [],
   "source": [
    "# xgb_tuned = tune_model(xgb, n_iter = 50)"
   ]
  },
  {
   "cell_type": "code",
   "execution_count": null,
   "id": "a051be8f-1680-4114-b185-6dddcb5bab41",
   "metadata": {},
   "outputs": [],
   "source": []
  },
  {
   "cell_type": "code",
   "execution_count": 14,
   "id": "9fe0d813-a999-4e1f-8c76-101d5b6fd332",
   "metadata": {},
   "outputs": [
    {
     "data": {
      "text/html": [],
      "text/plain": [
       "<IPython.core.display.HTML object>"
      ]
     },
     "metadata": {},
     "output_type": "display_data"
    },
    {
     "data": {
      "text/html": [
       "<style type=\"text/css\">\n",
       "#T_b4dea_row10_col0, #T_b4dea_row10_col1, #T_b4dea_row10_col2, #T_b4dea_row10_col3, #T_b4dea_row10_col4, #T_b4dea_row10_col5, #T_b4dea_row10_col6 {\n",
       "  background: yellow;\n",
       "}\n",
       "</style>\n",
       "<table id=\"T_b4dea\">\n",
       "  <thead>\n",
       "    <tr>\n",
       "      <th class=\"blank level0\" >&nbsp;</th>\n",
       "      <th id=\"T_b4dea_level0_col0\" class=\"col_heading level0 col0\" >Accuracy</th>\n",
       "      <th id=\"T_b4dea_level0_col1\" class=\"col_heading level0 col1\" >AUC</th>\n",
       "      <th id=\"T_b4dea_level0_col2\" class=\"col_heading level0 col2\" >Recall</th>\n",
       "      <th id=\"T_b4dea_level0_col3\" class=\"col_heading level0 col3\" >Prec.</th>\n",
       "      <th id=\"T_b4dea_level0_col4\" class=\"col_heading level0 col4\" >F1</th>\n",
       "      <th id=\"T_b4dea_level0_col5\" class=\"col_heading level0 col5\" >Kappa</th>\n",
       "      <th id=\"T_b4dea_level0_col6\" class=\"col_heading level0 col6\" >MCC</th>\n",
       "    </tr>\n",
       "    <tr>\n",
       "      <th class=\"index_name level0\" >Fold</th>\n",
       "      <th class=\"blank col0\" >&nbsp;</th>\n",
       "      <th class=\"blank col1\" >&nbsp;</th>\n",
       "      <th class=\"blank col2\" >&nbsp;</th>\n",
       "      <th class=\"blank col3\" >&nbsp;</th>\n",
       "      <th class=\"blank col4\" >&nbsp;</th>\n",
       "      <th class=\"blank col5\" >&nbsp;</th>\n",
       "      <th class=\"blank col6\" >&nbsp;</th>\n",
       "    </tr>\n",
       "  </thead>\n",
       "  <tbody>\n",
       "    <tr>\n",
       "      <th id=\"T_b4dea_level0_row0\" class=\"row_heading level0 row0\" >0</th>\n",
       "      <td id=\"T_b4dea_row0_col0\" class=\"data row0 col0\" >0.6557</td>\n",
       "      <td id=\"T_b4dea_row0_col1\" class=\"data row0 col1\" >0.5962</td>\n",
       "      <td id=\"T_b4dea_row0_col2\" class=\"data row0 col2\" >0.2000</td>\n",
       "      <td id=\"T_b4dea_row0_col3\" class=\"data row0 col3\" >0.6000</td>\n",
       "      <td id=\"T_b4dea_row0_col4\" class=\"data row0 col4\" >0.3000</td>\n",
       "      <td id=\"T_b4dea_row0_col5\" class=\"data row0 col5\" >0.1417</td>\n",
       "      <td id=\"T_b4dea_row0_col6\" class=\"data row0 col6\" >0.1794</td>\n",
       "    </tr>\n",
       "    <tr>\n",
       "      <th id=\"T_b4dea_level0_row1\" class=\"row_heading level0 row1\" >1</th>\n",
       "      <td id=\"T_b4dea_row1_col0\" class=\"data row1 col0\" >0.6198</td>\n",
       "      <td id=\"T_b4dea_row1_col1\" class=\"data row1 col1\" >0.5854</td>\n",
       "      <td id=\"T_b4dea_row1_col2\" class=\"data row1 col2\" >0.2889</td>\n",
       "      <td id=\"T_b4dea_row1_col3\" class=\"data row1 col3\" >0.4815</td>\n",
       "      <td id=\"T_b4dea_row1_col4\" class=\"data row1 col4\" >0.3611</td>\n",
       "      <td id=\"T_b4dea_row1_col5\" class=\"data row1 col5\" >0.1140</td>\n",
       "      <td id=\"T_b4dea_row1_col6\" class=\"data row1 col6\" >0.1215</td>\n",
       "    </tr>\n",
       "    <tr>\n",
       "      <th id=\"T_b4dea_level0_row2\" class=\"row_heading level0 row2\" >2</th>\n",
       "      <td id=\"T_b4dea_row2_col0\" class=\"data row2 col0\" >0.6364</td>\n",
       "      <td id=\"T_b4dea_row2_col1\" class=\"data row2 col1\" >0.6608</td>\n",
       "      <td id=\"T_b4dea_row2_col2\" class=\"data row2 col2\" >0.2444</td>\n",
       "      <td id=\"T_b4dea_row2_col3\" class=\"data row2 col3\" >0.5238</td>\n",
       "      <td id=\"T_b4dea_row2_col4\" class=\"data row2 col4\" >0.3333</td>\n",
       "      <td id=\"T_b4dea_row2_col5\" class=\"data row2 col5\" >0.1266</td>\n",
       "      <td id=\"T_b4dea_row2_col6\" class=\"data row2 col6\" >0.1440</td>\n",
       "    </tr>\n",
       "    <tr>\n",
       "      <th id=\"T_b4dea_level0_row3\" class=\"row_heading level0 row3\" >3</th>\n",
       "      <td id=\"T_b4dea_row3_col0\" class=\"data row3 col0\" >0.6446</td>\n",
       "      <td id=\"T_b4dea_row3_col1\" class=\"data row3 col1\" >0.6091</td>\n",
       "      <td id=\"T_b4dea_row3_col2\" class=\"data row3 col2\" >0.1778</td>\n",
       "      <td id=\"T_b4dea_row3_col3\" class=\"data row3 col3\" >0.5714</td>\n",
       "      <td id=\"T_b4dea_row3_col4\" class=\"data row3 col4\" >0.2712</td>\n",
       "      <td id=\"T_b4dea_row3_col5\" class=\"data row3 col5\" >0.1150</td>\n",
       "      <td id=\"T_b4dea_row3_col6\" class=\"data row3 col6\" >0.1493</td>\n",
       "    </tr>\n",
       "    <tr>\n",
       "      <th id=\"T_b4dea_level0_row4\" class=\"row_heading level0 row4\" >4</th>\n",
       "      <td id=\"T_b4dea_row4_col0\" class=\"data row4 col0\" >0.7025</td>\n",
       "      <td id=\"T_b4dea_row4_col1\" class=\"data row4 col1\" >0.6614</td>\n",
       "      <td id=\"T_b4dea_row4_col2\" class=\"data row4 col2\" >0.3556</td>\n",
       "      <td id=\"T_b4dea_row4_col3\" class=\"data row4 col3\" >0.6957</td>\n",
       "      <td id=\"T_b4dea_row4_col4\" class=\"data row4 col4\" >0.4706</td>\n",
       "      <td id=\"T_b4dea_row4_col5\" class=\"data row4 col5\" >0.2926</td>\n",
       "      <td id=\"T_b4dea_row4_col6\" class=\"data row4 col6\" >0.3245</td>\n",
       "    </tr>\n",
       "    <tr>\n",
       "      <th id=\"T_b4dea_level0_row5\" class=\"row_heading level0 row5\" >5</th>\n",
       "      <td id=\"T_b4dea_row5_col0\" class=\"data row5 col0\" >0.6694</td>\n",
       "      <td id=\"T_b4dea_row5_col1\" class=\"data row5 col1\" >0.6702</td>\n",
       "      <td id=\"T_b4dea_row5_col2\" class=\"data row5 col2\" >0.3111</td>\n",
       "      <td id=\"T_b4dea_row5_col3\" class=\"data row5 col3\" >0.6087</td>\n",
       "      <td id=\"T_b4dea_row5_col4\" class=\"data row5 col4\" >0.4118</td>\n",
       "      <td id=\"T_b4dea_row5_col5\" class=\"data row5 col5\" >0.2140</td>\n",
       "      <td id=\"T_b4dea_row5_col6\" class=\"data row5 col6\" >0.2374</td>\n",
       "    </tr>\n",
       "    <tr>\n",
       "      <th id=\"T_b4dea_level0_row6\" class=\"row_heading level0 row6\" >6</th>\n",
       "      <td id=\"T_b4dea_row6_col0\" class=\"data row6 col0\" >0.6364</td>\n",
       "      <td id=\"T_b4dea_row6_col1\" class=\"data row6 col1\" >0.5643</td>\n",
       "      <td id=\"T_b4dea_row6_col2\" class=\"data row6 col2\" >0.1778</td>\n",
       "      <td id=\"T_b4dea_row6_col3\" class=\"data row6 col3\" >0.5333</td>\n",
       "      <td id=\"T_b4dea_row6_col4\" class=\"data row6 col4\" >0.2667</td>\n",
       "      <td id=\"T_b4dea_row6_col5\" class=\"data row6 col5\" >0.0992</td>\n",
       "      <td id=\"T_b4dea_row6_col6\" class=\"data row6 col6\" >0.1256</td>\n",
       "    </tr>\n",
       "    <tr>\n",
       "      <th id=\"T_b4dea_level0_row7\" class=\"row_heading level0 row7\" >7</th>\n",
       "      <td id=\"T_b4dea_row7_col0\" class=\"data row7 col0\" >0.6612</td>\n",
       "      <td id=\"T_b4dea_row7_col1\" class=\"data row7 col1\" >0.6579</td>\n",
       "      <td id=\"T_b4dea_row7_col2\" class=\"data row7 col2\" >0.2000</td>\n",
       "      <td id=\"T_b4dea_row7_col3\" class=\"data row7 col3\" >0.6429</td>\n",
       "      <td id=\"T_b4dea_row7_col4\" class=\"data row7 col4\" >0.3051</td>\n",
       "      <td id=\"T_b4dea_row7_col5\" class=\"data row7 col5\" >0.1561</td>\n",
       "      <td id=\"T_b4dea_row7_col6\" class=\"data row7 col6\" >0.2028</td>\n",
       "    </tr>\n",
       "    <tr>\n",
       "      <th id=\"T_b4dea_level0_row8\" class=\"row_heading level0 row8\" >8</th>\n",
       "      <td id=\"T_b4dea_row8_col0\" class=\"data row8 col0\" >0.6364</td>\n",
       "      <td id=\"T_b4dea_row8_col1\" class=\"data row8 col1\" >0.6003</td>\n",
       "      <td id=\"T_b4dea_row8_col2\" class=\"data row8 col2\" >0.2222</td>\n",
       "      <td id=\"T_b4dea_row8_col3\" class=\"data row8 col3\" >0.5263</td>\n",
       "      <td id=\"T_b4dea_row8_col4\" class=\"data row8 col4\" >0.3125</td>\n",
       "      <td id=\"T_b4dea_row8_col5\" class=\"data row8 col5\" >0.1177</td>\n",
       "      <td id=\"T_b4dea_row8_col6\" class=\"data row8 col6\" >0.1379</td>\n",
       "    </tr>\n",
       "    <tr>\n",
       "      <th id=\"T_b4dea_level0_row9\" class=\"row_heading level0 row9\" >9</th>\n",
       "      <td id=\"T_b4dea_row9_col0\" class=\"data row9 col0\" >0.6446</td>\n",
       "      <td id=\"T_b4dea_row9_col1\" class=\"data row9 col1\" >0.5974</td>\n",
       "      <td id=\"T_b4dea_row9_col2\" class=\"data row9 col2\" >0.2444</td>\n",
       "      <td id=\"T_b4dea_row9_col3\" class=\"data row9 col3\" >0.5500</td>\n",
       "      <td id=\"T_b4dea_row9_col4\" class=\"data row9 col4\" >0.3385</td>\n",
       "      <td id=\"T_b4dea_row9_col5\" class=\"data row9 col5\" >0.1421</td>\n",
       "      <td id=\"T_b4dea_row9_col6\" class=\"data row9 col6\" >0.1640</td>\n",
       "    </tr>\n",
       "    <tr>\n",
       "      <th id=\"T_b4dea_level0_row10\" class=\"row_heading level0 row10\" >Mean</th>\n",
       "      <td id=\"T_b4dea_row10_col0\" class=\"data row10 col0\" >0.6507</td>\n",
       "      <td id=\"T_b4dea_row10_col1\" class=\"data row10 col1\" >0.6203</td>\n",
       "      <td id=\"T_b4dea_row10_col2\" class=\"data row10 col2\" >0.2422</td>\n",
       "      <td id=\"T_b4dea_row10_col3\" class=\"data row10 col3\" >0.5734</td>\n",
       "      <td id=\"T_b4dea_row10_col4\" class=\"data row10 col4\" >0.3371</td>\n",
       "      <td id=\"T_b4dea_row10_col5\" class=\"data row10 col5\" >0.1519</td>\n",
       "      <td id=\"T_b4dea_row10_col6\" class=\"data row10 col6\" >0.1786</td>\n",
       "    </tr>\n",
       "    <tr>\n",
       "      <th id=\"T_b4dea_level0_row11\" class=\"row_heading level0 row11\" >Std</th>\n",
       "      <td id=\"T_b4dea_row11_col0\" class=\"data row11 col0\" >0.0219</td>\n",
       "      <td id=\"T_b4dea_row11_col1\" class=\"data row11 col1\" >0.0364</td>\n",
       "      <td id=\"T_b4dea_row11_col2\" class=\"data row11 col2\" >0.0566</td>\n",
       "      <td id=\"T_b4dea_row11_col3\" class=\"data row11 col3\" >0.0608</td>\n",
       "      <td id=\"T_b4dea_row11_col4\" class=\"data row11 col4\" >0.0602</td>\n",
       "      <td id=\"T_b4dea_row11_col5\" class=\"data row11 col5\" >0.0559</td>\n",
       "      <td id=\"T_b4dea_row11_col6\" class=\"data row11 col6\" >0.0594</td>\n",
       "    </tr>\n",
       "  </tbody>\n",
       "</table>\n"
      ],
      "text/plain": [
       "<pandas.io.formats.style.Styler at 0x7ffa3c6e8d30>"
      ]
     },
     "metadata": {},
     "output_type": "display_data"
    },
    {
     "data": {
      "application/vnd.jupyter.widget-view+json": {
       "model_id": "",
       "version_major": 2,
       "version_minor": 0
      },
      "text/plain": [
       "Processing:   0%|          | 0/4 [00:00<?, ?it/s]"
      ]
     },
     "metadata": {},
     "output_type": "display_data"
    }
   ],
   "source": [
    "cb = create_model('catboost')"
   ]
  },
  {
   "cell_type": "code",
   "execution_count": 15,
   "id": "636cf02e-9381-4d82-9c95-b95db0dd6e15",
   "metadata": {},
   "outputs": [
    {
     "data": {
      "text/html": [],
      "text/plain": [
       "<IPython.core.display.HTML object>"
      ]
     },
     "metadata": {},
     "output_type": "display_data"
    },
    {
     "data": {
      "text/html": [
       "<style type=\"text/css\">\n",
       "#T_ad7f6_row10_col0, #T_ad7f6_row10_col1, #T_ad7f6_row10_col2, #T_ad7f6_row10_col3, #T_ad7f6_row10_col4, #T_ad7f6_row10_col5, #T_ad7f6_row10_col6 {\n",
       "  background: yellow;\n",
       "}\n",
       "</style>\n",
       "<table id=\"T_ad7f6\">\n",
       "  <thead>\n",
       "    <tr>\n",
       "      <th class=\"blank level0\" >&nbsp;</th>\n",
       "      <th id=\"T_ad7f6_level0_col0\" class=\"col_heading level0 col0\" >Accuracy</th>\n",
       "      <th id=\"T_ad7f6_level0_col1\" class=\"col_heading level0 col1\" >AUC</th>\n",
       "      <th id=\"T_ad7f6_level0_col2\" class=\"col_heading level0 col2\" >Recall</th>\n",
       "      <th id=\"T_ad7f6_level0_col3\" class=\"col_heading level0 col3\" >Prec.</th>\n",
       "      <th id=\"T_ad7f6_level0_col4\" class=\"col_heading level0 col4\" >F1</th>\n",
       "      <th id=\"T_ad7f6_level0_col5\" class=\"col_heading level0 col5\" >Kappa</th>\n",
       "      <th id=\"T_ad7f6_level0_col6\" class=\"col_heading level0 col6\" >MCC</th>\n",
       "    </tr>\n",
       "    <tr>\n",
       "      <th class=\"index_name level0\" >Fold</th>\n",
       "      <th class=\"blank col0\" >&nbsp;</th>\n",
       "      <th class=\"blank col1\" >&nbsp;</th>\n",
       "      <th class=\"blank col2\" >&nbsp;</th>\n",
       "      <th class=\"blank col3\" >&nbsp;</th>\n",
       "      <th class=\"blank col4\" >&nbsp;</th>\n",
       "      <th class=\"blank col5\" >&nbsp;</th>\n",
       "      <th class=\"blank col6\" >&nbsp;</th>\n",
       "    </tr>\n",
       "  </thead>\n",
       "  <tbody>\n",
       "    <tr>\n",
       "      <th id=\"T_ad7f6_level0_row0\" class=\"row_heading level0 row0\" >0</th>\n",
       "      <td id=\"T_ad7f6_row0_col0\" class=\"data row0 col0\" >0.6475</td>\n",
       "      <td id=\"T_ad7f6_row0_col1\" class=\"data row0 col1\" >0.6035</td>\n",
       "      <td id=\"T_ad7f6_row0_col2\" class=\"data row0 col2\" >0.1556</td>\n",
       "      <td id=\"T_ad7f6_row0_col3\" class=\"data row0 col3\" >0.5833</td>\n",
       "      <td id=\"T_ad7f6_row0_col4\" class=\"data row0 col4\" >0.2456</td>\n",
       "      <td id=\"T_ad7f6_row0_col5\" class=\"data row0 col5\" >0.1069</td>\n",
       "      <td id=\"T_ad7f6_row0_col6\" class=\"data row0 col6\" >0.1468</td>\n",
       "    </tr>\n",
       "    <tr>\n",
       "      <th id=\"T_ad7f6_level0_row1\" class=\"row_heading level0 row1\" >1</th>\n",
       "      <td id=\"T_ad7f6_row1_col0\" class=\"data row1 col0\" >0.6364</td>\n",
       "      <td id=\"T_ad7f6_row1_col1\" class=\"data row1 col1\" >0.5608</td>\n",
       "      <td id=\"T_ad7f6_row1_col2\" class=\"data row1 col2\" >0.2444</td>\n",
       "      <td id=\"T_ad7f6_row1_col3\" class=\"data row1 col3\" >0.5238</td>\n",
       "      <td id=\"T_ad7f6_row1_col4\" class=\"data row1 col4\" >0.3333</td>\n",
       "      <td id=\"T_ad7f6_row1_col5\" class=\"data row1 col5\" >0.1266</td>\n",
       "      <td id=\"T_ad7f6_row1_col6\" class=\"data row1 col6\" >0.1440</td>\n",
       "    </tr>\n",
       "    <tr>\n",
       "      <th id=\"T_ad7f6_level0_row2\" class=\"row_heading level0 row2\" >2</th>\n",
       "      <td id=\"T_ad7f6_row2_col0\" class=\"data row2 col0\" >0.6446</td>\n",
       "      <td id=\"T_ad7f6_row2_col1\" class=\"data row2 col1\" >0.6538</td>\n",
       "      <td id=\"T_ad7f6_row2_col2\" class=\"data row2 col2\" >0.2000</td>\n",
       "      <td id=\"T_ad7f6_row2_col3\" class=\"data row2 col3\" >0.5625</td>\n",
       "      <td id=\"T_ad7f6_row2_col4\" class=\"data row2 col4\" >0.2951</td>\n",
       "      <td id=\"T_ad7f6_row2_col5\" class=\"data row2 col5\" >0.1242</td>\n",
       "      <td id=\"T_ad7f6_row2_col6\" class=\"data row2 col6\" >0.1539</td>\n",
       "    </tr>\n",
       "    <tr>\n",
       "      <th id=\"T_ad7f6_level0_row3\" class=\"row_heading level0 row3\" >3</th>\n",
       "      <td id=\"T_ad7f6_row3_col0\" class=\"data row3 col0\" >0.6281</td>\n",
       "      <td id=\"T_ad7f6_row3_col1\" class=\"data row3 col1\" >0.5855</td>\n",
       "      <td id=\"T_ad7f6_row3_col2\" class=\"data row3 col2\" >0.1111</td>\n",
       "      <td id=\"T_ad7f6_row3_col3\" class=\"data row3 col3\" >0.5000</td>\n",
       "      <td id=\"T_ad7f6_row3_col4\" class=\"data row3 col4\" >0.1818</td>\n",
       "      <td id=\"T_ad7f6_row3_col5\" class=\"data row3 col5\" >0.0539</td>\n",
       "      <td id=\"T_ad7f6_row3_col6\" class=\"data row3 col6\" >0.0796</td>\n",
       "    </tr>\n",
       "    <tr>\n",
       "      <th id=\"T_ad7f6_level0_row4\" class=\"row_heading level0 row4\" >4</th>\n",
       "      <td id=\"T_ad7f6_row4_col0\" class=\"data row4 col0\" >0.6942</td>\n",
       "      <td id=\"T_ad7f6_row4_col1\" class=\"data row4 col1\" >0.6974</td>\n",
       "      <td id=\"T_ad7f6_row4_col2\" class=\"data row4 col2\" >0.3333</td>\n",
       "      <td id=\"T_ad7f6_row4_col3\" class=\"data row4 col3\" >0.6818</td>\n",
       "      <td id=\"T_ad7f6_row4_col4\" class=\"data row4 col4\" >0.4478</td>\n",
       "      <td id=\"T_ad7f6_row4_col5\" class=\"data row4 col5\" >0.2693</td>\n",
       "      <td id=\"T_ad7f6_row4_col6\" class=\"data row4 col6\" >0.3023</td>\n",
       "    </tr>\n",
       "    <tr>\n",
       "      <th id=\"T_ad7f6_level0_row5\" class=\"row_heading level0 row5\" >5</th>\n",
       "      <td id=\"T_ad7f6_row5_col0\" class=\"data row5 col0\" >0.6446</td>\n",
       "      <td id=\"T_ad7f6_row5_col1\" class=\"data row5 col1\" >0.6699</td>\n",
       "      <td id=\"T_ad7f6_row5_col2\" class=\"data row5 col2\" >0.1778</td>\n",
       "      <td id=\"T_ad7f6_row5_col3\" class=\"data row5 col3\" >0.5714</td>\n",
       "      <td id=\"T_ad7f6_row5_col4\" class=\"data row5 col4\" >0.2712</td>\n",
       "      <td id=\"T_ad7f6_row5_col5\" class=\"data row5 col5\" >0.1150</td>\n",
       "      <td id=\"T_ad7f6_row5_col6\" class=\"data row5 col6\" >0.1493</td>\n",
       "    </tr>\n",
       "    <tr>\n",
       "      <th id=\"T_ad7f6_level0_row6\" class=\"row_heading level0 row6\" >6</th>\n",
       "      <td id=\"T_ad7f6_row6_col0\" class=\"data row6 col0\" >0.6529</td>\n",
       "      <td id=\"T_ad7f6_row6_col1\" class=\"data row6 col1\" >0.5415</td>\n",
       "      <td id=\"T_ad7f6_row6_col2\" class=\"data row6 col2\" >0.2444</td>\n",
       "      <td id=\"T_ad7f6_row6_col3\" class=\"data row6 col3\" >0.5789</td>\n",
       "      <td id=\"T_ad7f6_row6_col4\" class=\"data row6 col4\" >0.3438</td>\n",
       "      <td id=\"T_ad7f6_row6_col5\" class=\"data row6 col5\" >0.1578</td>\n",
       "      <td id=\"T_ad7f6_row6_col6\" class=\"data row6 col6\" >0.1849</td>\n",
       "    </tr>\n",
       "    <tr>\n",
       "      <th id=\"T_ad7f6_level0_row7\" class=\"row_heading level0 row7\" >7</th>\n",
       "      <td id=\"T_ad7f6_row7_col0\" class=\"data row7 col0\" >0.6364</td>\n",
       "      <td id=\"T_ad7f6_row7_col1\" class=\"data row7 col1\" >0.6649</td>\n",
       "      <td id=\"T_ad7f6_row7_col2\" class=\"data row7 col2\" >0.1778</td>\n",
       "      <td id=\"T_ad7f6_row7_col3\" class=\"data row7 col3\" >0.5333</td>\n",
       "      <td id=\"T_ad7f6_row7_col4\" class=\"data row7 col4\" >0.2667</td>\n",
       "      <td id=\"T_ad7f6_row7_col5\" class=\"data row7 col5\" >0.0992</td>\n",
       "      <td id=\"T_ad7f6_row7_col6\" class=\"data row7 col6\" >0.1256</td>\n",
       "    </tr>\n",
       "    <tr>\n",
       "      <th id=\"T_ad7f6_level0_row8\" class=\"row_heading level0 row8\" >8</th>\n",
       "      <td id=\"T_ad7f6_row8_col0\" class=\"data row8 col0\" >0.6529</td>\n",
       "      <td id=\"T_ad7f6_row8_col1\" class=\"data row8 col1\" >0.6132</td>\n",
       "      <td id=\"T_ad7f6_row8_col2\" class=\"data row8 col2\" >0.2000</td>\n",
       "      <td id=\"T_ad7f6_row8_col3\" class=\"data row8 col3\" >0.6000</td>\n",
       "      <td id=\"T_ad7f6_row8_col4\" class=\"data row8 col4\" >0.3000</td>\n",
       "      <td id=\"T_ad7f6_row8_col5\" class=\"data row8 col5\" >0.1401</td>\n",
       "      <td id=\"T_ad7f6_row8_col6\" class=\"data row8 col6\" >0.1775</td>\n",
       "    </tr>\n",
       "    <tr>\n",
       "      <th id=\"T_ad7f6_level0_row9\" class=\"row_heading level0 row9\" >9</th>\n",
       "      <td id=\"T_ad7f6_row9_col0\" class=\"data row9 col0\" >0.6198</td>\n",
       "      <td id=\"T_ad7f6_row9_col1\" class=\"data row9 col1\" >0.5766</td>\n",
       "      <td id=\"T_ad7f6_row9_col2\" class=\"data row9 col2\" >0.2889</td>\n",
       "      <td id=\"T_ad7f6_row9_col3\" class=\"data row9 col3\" >0.4815</td>\n",
       "      <td id=\"T_ad7f6_row9_col4\" class=\"data row9 col4\" >0.3611</td>\n",
       "      <td id=\"T_ad7f6_row9_col5\" class=\"data row9 col5\" >0.1140</td>\n",
       "      <td id=\"T_ad7f6_row9_col6\" class=\"data row9 col6\" >0.1215</td>\n",
       "    </tr>\n",
       "    <tr>\n",
       "      <th id=\"T_ad7f6_level0_row10\" class=\"row_heading level0 row10\" >Mean</th>\n",
       "      <td id=\"T_ad7f6_row10_col0\" class=\"data row10 col0\" >0.6457</td>\n",
       "      <td id=\"T_ad7f6_row10_col1\" class=\"data row10 col1\" >0.6167</td>\n",
       "      <td id=\"T_ad7f6_row10_col2\" class=\"data row10 col2\" >0.2133</td>\n",
       "      <td id=\"T_ad7f6_row10_col3\" class=\"data row10 col3\" >0.5617</td>\n",
       "      <td id=\"T_ad7f6_row10_col4\" class=\"data row10 col4\" >0.3046</td>\n",
       "      <td id=\"T_ad7f6_row10_col5\" class=\"data row10 col5\" >0.1307</td>\n",
       "      <td id=\"T_ad7f6_row10_col6\" class=\"data row10 col6\" >0.1586</td>\n",
       "    </tr>\n",
       "    <tr>\n",
       "      <th id=\"T_ad7f6_level0_row11\" class=\"row_heading level0 row11\" >Std</th>\n",
       "      <td id=\"T_ad7f6_row11_col0\" class=\"data row11 col0\" >0.0190</td>\n",
       "      <td id=\"T_ad7f6_row11_col1\" class=\"data row11 col1\" >0.0496</td>\n",
       "      <td id=\"T_ad7f6_row11_col2\" class=\"data row11 col2\" >0.0622</td>\n",
       "      <td id=\"T_ad7f6_row11_col3\" class=\"data row11 col3\" >0.0541</td>\n",
       "      <td id=\"T_ad7f6_row11_col4\" class=\"data row11 col4\" >0.0688</td>\n",
       "      <td id=\"T_ad7f6_row11_col5\" class=\"data row11 col5\" >0.0530</td>\n",
       "      <td id=\"T_ad7f6_row11_col6\" class=\"data row11 col6\" >0.0556</td>\n",
       "    </tr>\n",
       "  </tbody>\n",
       "</table>\n"
      ],
      "text/plain": [
       "<pandas.io.formats.style.Styler at 0x7ffa3c6f9fd0>"
      ]
     },
     "metadata": {},
     "output_type": "display_data"
    },
    {
     "data": {
      "application/vnd.jupyter.widget-view+json": {
       "model_id": "",
       "version_major": 2,
       "version_minor": 0
      },
      "text/plain": [
       "Processing:   0%|          | 0/7 [00:00<?, ?it/s]"
      ]
     },
     "metadata": {},
     "output_type": "display_data"
    },
    {
     "name": "stdout",
     "output_type": "stream",
     "text": [
      "Fitting 10 folds for each of 50 candidates, totalling 500 fits\n",
      "Original model was better than the tuned model, hence it will be returned. NOTE: The display metrics are for the tuned model (not the original one).\n"
     ]
    }
   ],
   "source": [
    "cb_tuned = tune_model(cb, n_iter = 50)"
   ]
  },
  {
   "cell_type": "code",
   "execution_count": 17,
   "id": "f068f4eb-6b2c-4e5a-a343-5795866ffe92",
   "metadata": {},
   "outputs": [
    {
     "data": {
      "application/vnd.jupyter.widget-view+json": {
       "model_id": "d81a285a81b247aa84f44afeb5bd7788",
       "version_major": 2,
       "version_minor": 0
      },
      "text/plain": [
       "interactive(children=(ToggleButtons(description='Plot Type:', icons=('',), options=(('Pipeline Plot', 'pipelin…"
      ]
     },
     "metadata": {},
     "output_type": "display_data"
    }
   ],
   "source": [
    "evaluate_model(cb_tuned)"
   ]
  },
  {
   "cell_type": "code",
   "execution_count": 23,
   "id": "a27dd48f-97e8-410c-8dbf-e92063d31ccf",
   "metadata": {},
   "outputs": [
    {
     "data": {
      "image/png": "[encoded data removed]",
      "text/plain": [
       "<Figure size 576x482.4 with 2 Axes>"
      ]
     },
     "metadata": {
      "needs_background": "light"
     },
     "output_type": "display_data"
    }
   ],
   "source": [
    "interpret_model(cb_tuned)"
   ]
  },
  {
   "cell_type": "code",
   "execution_count": null,
   "id": "170cdee5-40cd-487a-bafc-2d6faf3a87d7",
   "metadata": {},
   "outputs": [],
   "source": []
  }
 ],
 "metadata": {
  "kernelspec": {
   "display_name": "Python 3 (ipykernel)",
   "language": "python",
   "name": "python3"
  },
  "language_info": {
   "codemirror_mode": {
    "name": "ipython",
    "version": 3
   },
   "file_extension": ".py",
   "mimetype": "text/x-python",
   "name": "python",
   "nbconvert_exporter": "python",
   "pygments_lexer": "ipython3",
   "version": "3.9.13"
  }
 },
 "nbformat": 4,
 "nbformat_minor": 5
}
