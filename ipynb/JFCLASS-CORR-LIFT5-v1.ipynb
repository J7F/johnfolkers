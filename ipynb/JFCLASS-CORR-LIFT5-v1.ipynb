{
 "cells": [
  {
   "cell_type": "code",
   "execution_count": null,
   "id": "9da589d0-259c-4193-a081-d80b34f1c750",
   "metadata": {},
   "outputs": [],
   "source": [
    "import pandas as pd"
   ]
  },
  {
   "cell_type": "code",
   "execution_count": null,
   "id": "e312ccb8-bded-46ec-a74d-a506fd05c1b1",
   "metadata": {},
   "outputs": [],
   "source": [
    "psql_datapath=str('/data/projects/sec/drop3/data/2.postgresql/')"
   ]
  },
  {
   "cell_type": "code",
   "execution_count": null,
   "id": "8d09e997-57ad-4bd8-9ea3-3229ab490798",
   "metadata": {},
   "outputs": [],
   "source": [
    "events = pd.read_csv(psql_datapath + 'e69_peaksum.csv')"
   ]
  },
  {
   "cell_type": "code",
   "execution_count": null,
   "id": "b9fceb87-f1b0-45db-9cef-0fb1a101467e",
   "metadata": {},
   "outputs": [],
   "source": [
    "print(\"Shape of data{}\".format(events.shape))\n",
    "events.head()"
   ]
  },
  {
   "cell_type": "code",
   "execution_count": null,
   "id": "c42594cf-ce4b-446a-940d-6d05a2586776",
   "metadata": {},
   "outputs": [],
   "source": [
    "events.info()"
   ]
  },
  {
   "cell_type": "code",
   "execution_count": null,
   "id": "e3a44cbf-e770-48c0-b6f1-37d282775f33",
   "metadata": {},
   "outputs": [],
   "source": []
  },
  {
   "cell_type": "code",
   "execution_count": null,
   "id": "67b38096-6411-49dc-8b02-336ed002f538",
   "metadata": {},
   "outputs": [],
   "source": [
    "import seaborn as sns"
   ]
  },
  {
   "cell_type": "code",
   "execution_count": null,
   "id": "748f9a5e-97e2-4e1f-bef8-600155aa6960",
   "metadata": {},
   "outputs": [],
   "source": [
    "%matplotlib inline"
   ]
  },
  {
   "cell_type": "code",
   "execution_count": null,
   "id": "8dc1bfb4-cf5f-4ecf-a57d-86201fb91fb3",
   "metadata": {},
   "outputs": [],
   "source": [
    "corr = events.corr()"
   ]
  },
  {
   "cell_type": "code",
   "execution_count": null,
   "id": "371f4c21-b6da-42a6-a49d-7972399ff2c2",
   "metadata": {},
   "outputs": [],
   "source": [
    "sns.heatmap(corr,\n",
    "            xticklabels=corr.columns,\n",
    "            yticklabels=corr.columns)"
   ]
  },
  {
   "cell_type": "code",
   "execution_count": null,
   "id": "f06669cd-724e-469a-b0fa-81575180f766",
   "metadata": {},
   "outputs": [],
   "source": []
  },
  {
   "cell_type": "code",
   "execution_count": null,
   "id": "e415e55e-19f9-45f3-a3da-34524fe7d510",
   "metadata": {},
   "outputs": [],
   "source": [
    "from pycaret.classification import *\n",
    "s = setup(events, target = 'lift5')"
   ]
  },
  {
   "cell_type": "code",
   "execution_count": null,
   "id": "4762182a-c964-4eb0-8d84-1b18f5987b00",
   "metadata": {},
   "outputs": [],
   "source": [
    "# f1 = compare_models(sort='F1')"
   ]
  },
  {
   "cell_type": "code",
   "execution_count": null,
   "id": "c98c7d5b-77d8-4553-96c2-573e0b9d8f17",
   "metadata": {},
   "outputs": [],
   "source": [
    "# best = compare_models()"
   ]
  },
  {
   "cell_type": "code",
   "execution_count": null,
   "id": "6e13e9f5-0073-4672-8201-17aeff073ea6",
   "metadata": {},
   "outputs": [],
   "source": [
    "# plot_model(best, plot='auc')"
   ]
  },
  {
   "cell_type": "code",
   "execution_count": null,
   "id": "670e9778-761e-485b-8c70-0c81672c83d8",
   "metadata": {},
   "outputs": [],
   "source": [
    "# plot_model(best, plot='confusion_matrix')"
   ]
  },
  {
   "cell_type": "code",
   "execution_count": null,
   "id": "a8c1e506-d15e-46c9-bf1f-ffbda7aa0f36",
   "metadata": {},
   "outputs": [],
   "source": [
    "# plot_model(best, plot='feature')"
   ]
  },
  {
   "cell_type": "code",
   "execution_count": null,
   "id": "43cfbbc6-f63f-4f30-821e-75f37cce926a",
   "metadata": {},
   "outputs": [],
   "source": [
    "# plot_model(best, plot='threshold')"
   ]
  },
  {
   "cell_type": "code",
   "execution_count": null,
   "id": "c7ac4d97-4526-4ca8-81a5-18617bea84e8",
   "metadata": {},
   "outputs": [],
   "source": [
    "# xgb = create_model('xgboost',ensemble=True,method='Bagging')"
   ]
  },
  {
   "cell_type": "code",
   "execution_count": null,
   "id": "135d6475-87c9-4c7c-9a46-f75041641dc7",
   "metadata": {},
   "outputs": [],
   "source": [
    "save_model(cb_tuned, 'JFCLASS_LIFT5-MODEL-CB-v1')"
   ]
  },
  {
   "cell_type": "code",
   "execution_count": null,
   "id": "d766f143-5c68-4083-9bdd-34cdc45b0f9a",
   "metadata": {},
   "outputs": [],
   "source": [
    "# xgb_tuned = tune_model(xgb, n_iter = 50)"
   ]
  },
  {
   "cell_type": "code",
   "execution_count": null,
   "id": "a051be8f-1680-4114-b185-6dddcb5bab41",
   "metadata": {},
   "outputs": [],
   "source": []
  },
  {
   "cell_type": "code",
   "execution_count": null,
   "id": "9fe0d813-a999-4e1f-8c76-101d5b6fd332",
   "metadata": {},
   "outputs": [],
   "source": [
    "cb = create_model('catboost')"
   ]
  },
  {
   "cell_type": "code",
   "execution_count": null,
   "id": "636cf02e-9381-4d82-9c95-b95db0dd6e15",
   "metadata": {},
   "outputs": [],
   "source": [
    "cb_tuned = tune_model(cb, n_iter = 50)"
   ]
  },
  {
   "cell_type": "code",
   "execution_count": null,
   "id": "f068f4eb-6b2c-4e5a-a343-5795866ffe92",
   "metadata": {},
   "outputs": [],
   "source": [
    "evaluate_model(cb_tuned)"
   ]
  },
  {
   "cell_type": "code",
   "execution_count": null,
   "id": "a27dd48f-97e8-410c-8dbf-e92063d31ccf",
   "metadata": {},
   "outputs": [],
   "source": [
    "interpret_model(cb_tuned)"
   ]
  },
  {
   "cell_type": "code",
   "execution_count": null,
   "id": "170cdee5-40cd-487a-bafc-2d6faf3a87d7",
   "metadata": {},
   "outputs": [],
   "source": []
  }
 ],
 "metadata": {
  "kernelspec": {
   "display_name": "Python 3 (ipykernel)",
   "language": "python",
   "name": "python3"
  },
  "language_info": {
   "codemirror_mode": {
    "name": "ipython",
    "version": 3
   },
   "file_extension": ".py",
   "mimetype": "text/x-python",
   "name": "python",
   "nbconvert_exporter": "python",
   "pygments_lexer": "ipython3",
   "version": "3.9.13"
  }
 },
 "nbformat": 4,
 "nbformat_minor": 5
}
