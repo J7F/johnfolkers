{
 "cells": [
  {
   "cell_type": "code",
   "execution_count": null,
   "id": "9da589d0-259c-4193-a081-d80b34f1c750",
   "metadata": {},
   "outputs": [],
   "source": [
    "import pandas as pd"
   ]
  },
  {
   "cell_type": "code",
   "execution_count": null,
   "id": "8d09e997-57ad-4bd8-9ea3-3229ab490798",
   "metadata": {},
   "outputs": [],
   "source": [
    "events = pd.read_csv('/data/projects/sec/drop3/data/2.postgresql/e69.csv')"
   ]
  },
  {
   "cell_type": "code",
   "execution_count": null,
   "id": "b9fceb87-f1b0-45db-9cef-0fb1a101467e",
   "metadata": {},
   "outputs": [],
   "source": [
    "print(\"Shape of data{}\".format(events.shape))\n",
    "events.head()"
   ]
  },
  {
   "cell_type": "code",
   "execution_count": null,
   "id": "c42594cf-ce4b-446a-940d-6d05a2586776",
   "metadata": {},
   "outputs": [],
   "source": [
    "events.info()"
   ]
  },
  {
   "cell_type": "code",
   "execution_count": null,
   "id": "4ab21bc2-b92b-4869-8244-c8dd664790ac",
   "metadata": {},
   "outputs": [],
   "source": [
    "cols = [3,4,5,6,7,8,45,51,52,54,93,96,99,102,104,106,108,110,112,114,116,118,120,122,124,126]"
   ]
  },
  {
   "cell_type": "code",
   "execution_count": null,
   "id": "51c52e77-3f8d-41e2-8c9a-578cb4af0878",
   "metadata": {},
   "outputs": [],
   "source": [
    "events = events[events.columns[cols]]"
   ]
  },
  {
   "cell_type": "code",
   "execution_count": null,
   "id": "64c063d8-0fae-47ac-ae59-d08953a1f481",
   "metadata": {},
   "outputs": [],
   "source": [
    "events.info()"
   ]
  },
  {
   "cell_type": "code",
   "execution_count": null,
   "id": "eb8f7528-c43d-46fc-ba85-fd2bb6ed79e6",
   "metadata": {},
   "outputs": [],
   "source": [
    "events.head()"
   ]
  },
  {
   "cell_type": "code",
   "execution_count": null,
   "id": "67b38096-6411-49dc-8b02-336ed002f538",
   "metadata": {},
   "outputs": [],
   "source": []
  },
  {
   "cell_type": "code",
   "execution_count": null,
   "id": "ab659632-1f2a-4536-ad10-d97c4cbfaffe",
   "metadata": {},
   "outputs": [],
   "source": [
    "# grouped_events = events.groupby('a')"
   ]
  },
  {
   "cell_type": "code",
   "execution_count": null,
   "id": "57cd9c7a-9905-415c-86a6-a90c4e47f4f3",
   "metadata": {},
   "outputs": [],
   "source": [
    "# grouped_events.first()"
   ]
  },
  {
   "cell_type": "code",
   "execution_count": null,
   "id": "aabbbc68-e9ce-46ae-a10e-cc945ad7d4ad",
   "metadata": {},
   "outputs": [],
   "source": [
    "# grouped_events.get_group('xyz')"
   ]
  },
  {
   "cell_type": "code",
   "execution_count": null,
   "id": "c5409ce8-62cb-4e90-87ef-ca171cdff647",
   "metadata": {},
   "outputs": [],
   "source": []
  },
  {
   "cell_type": "code",
   "execution_count": null,
   "id": "ca996b85-e18a-4b3a-af42-2cbe9dd31e61",
   "metadata": {},
   "outputs": [],
   "source": [
    "dfs = [x for _, x in events.groupby('a')]"
   ]
  },
  {
   "cell_type": "code",
   "execution_count": null,
   "id": "09503ec2-77f0-4710-9202-8f83de5f593a",
   "metadata": {},
   "outputs": [],
   "source": [
    "dfs[0]"
   ]
  },
  {
   "cell_type": "code",
   "execution_count": null,
   "id": "b5eef5f9-fb18-45d0-90cc-2b6450ad76e6",
   "metadata": {},
   "outputs": [],
   "source": [
    "dfs[721]"
   ]
  },
  {
   "cell_type": "code",
   "execution_count": null,
   "id": "2d5531bc-ceee-46dd-8ea0-68b8423765c2",
   "metadata": {},
   "outputs": [],
   "source": []
  },
  {
   "cell_type": "code",
   "execution_count": null,
   "id": "21e61e8a-6450-4183-a1e3-8cb2368517ec",
   "metadata": {},
   "outputs": [],
   "source": [
    "dfs[0].info"
   ]
  },
  {
   "cell_type": "code",
   "execution_count": null,
   "id": "7d98ec02-45ee-4532-abb5-358aaa5fc32d",
   "metadata": {},
   "outputs": [],
   "source": []
  },
  {
   "cell_type": "code",
   "execution_count": null,
   "id": "9cd5bfe0-1fbd-4d92-b404-cff0ee686638",
   "metadata": {},
   "outputs": [],
   "source": []
  },
  {
   "cell_type": "code",
   "execution_count": null,
   "id": "1d5a6b91-8529-4ef9-8c7d-280193874c7b",
   "metadata": {},
   "outputs": [],
   "source": []
  },
  {
   "cell_type": "code",
   "execution_count": null,
   "id": "e415e55e-19f9-45f3-a3da-34524fe7d510",
   "metadata": {},
   "outputs": [],
   "source": [
    "from pycaret.arules import *"
   ]
  },
  {
   "cell_type": "code",
   "execution_count": null,
   "id": "d3e6f48d-c7ac-404b-8c47-d77a8dad2f31",
   "metadata": {},
   "outputs": [],
   "source": [
    "# Low Memory version\n",
    "\n",
    "# model = create_model(metric = 'lift', threshold = 5, low_memory = True)"
   ]
  },
  {
   "cell_type": "code",
   "execution_count": null,
   "id": "fba20111-6080-440c-915c-0a3f5df8b1f6",
   "metadata": {},
   "outputs": [],
   "source": [
    "userdf = dfs[721]\n",
    "userdf['a']"
   ]
  },
  {
   "cell_type": "code",
   "execution_count": null,
   "id": "800fd5b0-d9e0-417f-a444-08ca7bbcfe11",
   "metadata": {},
   "outputs": [],
   "source": [
    "arules = setup(userdf, transaction_id = 'downame', item_id = 'c')\n",
    "model_lift = create_model(metric = 'lift', threshold = 5)\n",
    "if model_lift[:1]['antecedents'].empty:\n",
    "    userdf['class'] = 0\n",
    "else:\n",
    "    userdf['class'] = 1"
   ]
  },
  {
   "cell_type": "code",
   "execution_count": null,
   "id": "65a6bc64-9724-4ff3-adec-e01828ac35dc",
   "metadata": {},
   "outputs": [],
   "source": [
    "userdf"
   ]
  },
  {
   "cell_type": "code",
   "execution_count": null,
   "id": "d862e5ee-26ac-491a-b518-51cf421e5bb1",
   "metadata": {},
   "outputs": [],
   "source": [
    "dfs[790]"
   ]
  },
  {
   "cell_type": "code",
   "execution_count": null,
   "id": "a6150911-415b-4630-bc3b-f32ac207d5c5",
   "metadata": {},
   "outputs": [],
   "source": [
    "len(dfs)"
   ]
  },
  {
   "cell_type": "code",
   "execution_count": null,
   "id": "90eec9fc-2362-4e1e-8260-e2333647efc4",
   "metadata": {},
   "outputs": [],
   "source": [
    "# > 1/2 TB RAM NEEDED WHEN RUN ALL AT ONCE\n",
    "\n",
    "#for userdf in dfs:\n",
    "#    arules = setup(userdf, transaction_id = 'downame', item_id = 'c')\n",
    "#    model_lift = create_model(metric = 'lift', threshold = 5)\n",
    "#    if model_lift[:1]['antecedents'].empty:\n",
    "#        userdf['class'] = 0\n",
    "#    else:\n",
    "#        userdf['class'] = 1"
   ]
  },
  {
   "cell_type": "code",
   "execution_count": null,
   "id": "9760d42d-a605-4530-9eda-6662448876f0",
   "metadata": {},
   "outputs": [],
   "source": [
    "labelpath=str('/data/projects/sec/drop3/data/3.jupyter/label/downame_c/')"
   ]
  },
  {
   "cell_type": "code",
   "execution_count": null,
   "id": "e2031af1-f287-43a6-a206-c3b3b1c27d09",
   "metadata": {},
   "outputs": [],
   "source": [
    "b1 = 0\n",
    "b2 = 9\n",
    "b3 = 11\n",
    "b4 = 796\n",
    "b5 = 798\n",
    "b6 = 1708\n",
    "b7 = 1710\n",
    "b8 = 1735"
   ]
  },
  {
   "cell_type": "code",
   "execution_count": null,
   "id": "0aabce4b-69a6-4d77-a8fb-0b06d6dc689a",
   "metadata": {},
   "outputs": [],
   "source": [
    "for i in range(b5,b6):\n",
    "    userdf = dfs[i]\n",
    "    arules = setup(userdf, transaction_id = 'downame', item_id = 'c')\n",
    "    model_lift = create_model(metric = 'lift', threshold = 5)\n",
    "    if model_lift[:1]['antecedents'].empty:\n",
    "        userdf['class'] = 0\n",
    "    else:\n",
    "        userdf['class'] = 1\n",
    "    dfs[i].to_csv(labelpath + \"armlift\" + str(i).zfill(6) + \".csv\", sep='\\t', encoding='utf-8', index=False)"
   ]
  },
  {
   "cell_type": "code",
   "execution_count": null,
   "id": "c98c7d5b-77d8-4553-96c2-573e0b9d8f17",
   "metadata": {},
   "outputs": [],
   "source": []
  }
 ],
 "metadata": {
  "kernelspec": {
   "display_name": "Python 3 (ipykernel)",
   "language": "python",
   "name": "python3"
  },
  "language_info": {
   "codemirror_mode": {
    "name": "ipython",
    "version": 3
   },
   "file_extension": ".py",
   "mimetype": "text/x-python",
   "name": "python",
   "nbconvert_exporter": "python",
   "pygments_lexer": "ipython3",
   "version": "3.9.13"
  }
 },
 "nbformat": 4,
 "nbformat_minor": 5
}
