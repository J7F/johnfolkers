{
 "cells": [
  {
   "cell_type": "code",
   "execution_count": 1,
   "metadata": {},
   "outputs": [
    {
     "data": {
      "text/html": [
       "\r\n",
       "<div>\r\n",
       "    <div id='dotnet-interactive-this-cell-29816.Microsoft.DotNet.Interactive.Http.HttpPort' style='display: none'>\r\n",
       "        The below script needs to be able to find the current output cell; this is an easy method to get it.\r\n",
       "    </div>\r\n",
       "    <script type='text/javascript'>\r\n",
       "async function probeAddresses(probingAddresses) {\r\n",
       "    function timeout(ms, promise) {\r\n",
       "        return new Promise(function (resolve, reject) {\r\n",
       "            setTimeout(function () {\r\n",
       "                reject(new Error('timeout'))\r\n",
       "            }, ms)\r\n",
       "            promise.then(resolve, reject)\r\n",
       "        })\r\n",
       "    }\r\n",
       "\r\n",
       "    if (Array.isArray(probingAddresses)) {\r\n",
       "        for (let i = 0; i < probingAddresses.length; i++) {\r\n",
       "\r\n",
       "            let rootUrl = probingAddresses[i];\r\n",
       "\r\n",
       "            if (!rootUrl.endsWith('/')) {\r\n",
       "                rootUrl = `${rootUrl}/`;\r\n",
       "            }\r\n",
       "\r\n",
       "            try {\r\n",
       "                let response = await timeout(1000, fetch(`${rootUrl}discovery`, {\r\n",
       "                    method: 'POST',\r\n",
       "                    cache: 'no-cache',\r\n",
       "                    mode: 'cors',\r\n",
       "                    timeout: 1000,\r\n",
       "                    headers: {\r\n",
       "                        'Content-Type': 'text/plain'\r\n",
       "                    },\r\n",
       "                    body: probingAddresses[i]\r\n",
       "                }));\r\n",
       "\r\n",
       "                if (response.status == 200) {\r\n",
       "                    return rootUrl;\r\n",
       "                }\r\n",
       "            }\r\n",
       "            catch (e) { }\r\n",
       "        }\r\n",
       "    }\r\n",
       "}\r\n",
       "\r\n",
       "function loadDotnetInteractiveApi() {\r\n",
       "    probeAddresses([\"http://10.22.32.22:1024/\", \"http://127.0.0.1:1024/\"])\r\n",
       "        .then((root) => {\r\n",
       "        // use probing to find host url and api resources\r\n",
       "        // load interactive helpers and language services\r\n",
       "        let dotnetInteractiveRequire = require.config({\r\n",
       "        context: '29816.Microsoft.DotNet.Interactive.Http.HttpPort',\r\n",
       "                paths:\r\n",
       "            {\r\n",
       "                'dotnet-interactive': `${root}resources`\r\n",
       "                }\r\n",
       "        }) || require;\r\n",
       "\r\n",
       "            window.dotnetInteractiveRequire = dotnetInteractiveRequire;\r\n",
       "\r\n",
       "            window.configureRequireFromExtension = function(extensionName, extensionCacheBuster) {\r\n",
       "                let paths = {};\r\n",
       "                paths[extensionName] = `${root}extensions/${extensionName}/resources/`;\r\n",
       "                \r\n",
       "                let internalRequire = require.config({\r\n",
       "                    context: extensionCacheBuster,\r\n",
       "                    paths: paths,\r\n",
       "                    urlArgs: `cacheBuster=${extensionCacheBuster}`\r\n",
       "                    }) || require;\r\n",
       "\r\n",
       "                return internalRequire\r\n",
       "            };\r\n",
       "        \r\n",
       "            dotnetInteractiveRequire([\r\n",
       "                    'dotnet-interactive/dotnet-interactive'\r\n",
       "                ],\r\n",
       "                function (dotnet) {\r\n",
       "                    dotnet.init(window);\r\n",
       "                },\r\n",
       "                function (error) {\r\n",
       "                    console.log(error);\r\n",
       "                }\r\n",
       "            );\r\n",
       "        })\r\n",
       "        .catch(error => {console.log(error);});\r\n",
       "    }\r\n",
       "\r\n",
       "// ensure `require` is available globally\r\n",
       "if ((typeof(require) !==  typeof(Function)) || (typeof(require.config) !== typeof(Function))) {\r\n",
       "    let require_script = document.createElement('script');\r\n",
       "    require_script.setAttribute('src', 'https://cdnjs.cloudflare.com/ajax/libs/require.js/2.3.6/require.min.js');\r\n",
       "    require_script.setAttribute('type', 'text/javascript');\r\n",
       "    \r\n",
       "    \r\n",
       "    require_script.onload = function() {\r\n",
       "        loadDotnetInteractiveApi();\r\n",
       "    };\r\n",
       "\r\n",
       "    document.getElementsByTagName('head')[0].appendChild(require_script);\r\n",
       "}\r\n",
       "else {\r\n",
       "    loadDotnetInteractiveApi();\r\n",
       "}\r\n",
       "\r\n",
       "    </script>\r\n",
       "</div>"
      ]
     },
     "metadata": {},
     "output_type": "display_data"
    },
    {
     "data": {
      "text/html": [
       "<div><div></div><div></div><div><strong>Installed Packages</strong><ul><li><span>NEST, 7.17.4</span></li></ul></div></div>"
      ]
     },
     "metadata": {},
     "output_type": "display_data"
    }
   ],
   "source": [
    "#r \"nuget:NEST\""
   ]
  },
  {
   "cell_type": "code",
   "execution_count": 2,
   "metadata": {},
   "outputs": [
    {
     "data": {
      "text/html": [
       "<div><div></div><div></div><div><strong>Installed Packages</strong><ul><li><span>CsvHelper, 28.0.1</span></li></ul></div></div>"
      ]
     },
     "metadata": {},
     "output_type": "display_data"
    }
   ],
   "source": [
    "#r \"nuget:CsvHelper\""
   ]
  },
  {
   "cell_type": "code",
   "execution_count": 3,
   "metadata": {},
   "outputs": [
    {
     "data": {
      "text/html": [
       "<div><div></div><div></div><div><strong>Installed Packages</strong><ul><li><span>Npgsql, 6.0.6</span></li></ul></div></div>"
      ]
     },
     "metadata": {},
     "output_type": "display_data"
    }
   ],
   "source": [
    "#r \"nuget:Npgsql\""
   ]
  },
  {
   "cell_type": "code",
   "execution_count": 4,
   "metadata": {},
   "outputs": [],
   "source": [
    "using Nest;"
   ]
  },
  {
   "cell_type": "code",
   "execution_count": 5,
   "metadata": {},
   "outputs": [],
   "source": [
    "using Elasticsearch.Net;"
   ]
  },
  {
   "cell_type": "code",
   "execution_count": 6,
   "metadata": {},
   "outputs": [],
   "source": [
    "using CsvHelper;"
   ]
  },
  {
   "cell_type": "code",
   "execution_count": 7,
   "metadata": {},
   "outputs": [],
   "source": [
    "using Newtonsoft.Json;"
   ]
  },
  {
   "cell_type": "code",
   "execution_count": 8,
   "metadata": {},
   "outputs": [],
   "source": [
    "using Newtonsoft.Json.Converters;"
   ]
  },
  {
   "cell_type": "code",
   "execution_count": 9,
   "metadata": {},
   "outputs": [],
   "source": [
    "using System;"
   ]
  },
  {
   "cell_type": "code",
   "execution_count": 10,
   "metadata": {},
   "outputs": [],
   "source": [
    "using System.Globalization;"
   ]
  },
  {
   "cell_type": "code",
   "execution_count": 11,
   "metadata": {},
   "outputs": [],
   "source": [
    "using System.Data;"
   ]
  },
  {
   "cell_type": "code",
   "execution_count": 12,
   "metadata": {},
   "outputs": [],
   "source": [
    "using System.IO;"
   ]
  },
  {
   "cell_type": "code",
   "execution_count": 13,
   "metadata": {},
   "outputs": [],
   "source": [
    "using System.Net;"
   ]
  },
  {
   "cell_type": "code",
   "execution_count": 14,
   "metadata": {},
   "outputs": [],
   "source": [
    "using System.Security;"
   ]
  },
  {
   "cell_type": "code",
   "execution_count": 15,
   "metadata": {},
   "outputs": [],
   "source": [
    "using System.Text;"
   ]
  },
  {
   "cell_type": "code",
   "execution_count": 16,
   "metadata": {},
   "outputs": [],
   "source": [
    "using System.Collections.ObjectModel;"
   ]
  },
  {
   "cell_type": "code",
   "execution_count": 17,
   "metadata": {},
   "outputs": [],
   "source": [
    "using System.Collections.Generic;"
   ]
  },
  {
   "cell_type": "code",
   "execution_count": 18,
   "metadata": {},
   "outputs": [],
   "source": [
    "using System.Text.RegularExpressions;"
   ]
  },
  {
   "cell_type": "code",
   "execution_count": 19,
   "metadata": {},
   "outputs": [],
   "source": [
    "using System.ComponentModel;"
   ]
  },
  {
   "cell_type": "code",
   "execution_count": 20,
   "metadata": {},
   "outputs": [],
   "source": [
    "using System.Linq;"
   ]
  },
  {
   "cell_type": "code",
   "execution_count": 21,
   "metadata": {},
   "outputs": [],
   "source": [
    "using Npgsql;"
   ]
  },
  {
   "cell_type": "markdown",
   "metadata": {},
   "source": [
    "## DATE RANGE"
   ]
  },
  {
   "cell_type": "code",
   "execution_count": 22,
   "metadata": {},
   "outputs": [],
   "source": [
    "DateTime StartDateTime = new DateTime(2022, 9, 1);\n",
    "DateTime EndDateTime = new DateTime(2022, 9, 13);"
   ]
  },
  {
   "cell_type": "markdown",
   "metadata": {},
   "source": [
    "## GLOBALS"
   ]
  },
  {
   "cell_type": "code",
   "execution_count": 23,
   "metadata": {},
   "outputs": [],
   "source": [
    "Int32 numBeforeInsert = 0;\n",
    "Int32 numAfterInsert = 0;\n",
    "string sql = \"\";"
   ]
  },
  {
   "cell_type": "markdown",
   "metadata": {},
   "source": [
    "## ACCEPT CERTIFICATE"
   ]
  },
  {
   "cell_type": "code",
   "execution_count": 24,
   "metadata": {},
   "outputs": [],
   "source": [
    "System.Net.ServicePointManager.ServerCertificateValidationCallback += (sender_jf, cert_jf, chain_jf, errors_jf) => true;"
   ]
  },
  {
   "cell_type": "markdown",
   "metadata": {},
   "source": [
    "## ENVIRONMENT"
   ]
  },
  {
   "cell_type": "code",
   "execution_count": 25,
   "metadata": {},
   "outputs": [],
   "source": [
    "var F1 = System.Environment.GetEnvironmentVariable(\"f000\");\n",
    "\n",
    "var E1 = System.Environment.GetEnvironmentVariable(\"e100\");\n",
    "var W1 = System.Environment.GetEnvironmentVariable(\"e103\");\n",
    "var X1 = System.Environment.GetEnvironmentVariable(\"e104\");\n",
    "var Y1 = System.Environment.GetEnvironmentVariable(\"e107\");\n",
    "\n",
    "var D2 = System.Environment.GetEnvironmentVariable(\"g274\");\n",
    "var P2 = System.Environment.GetEnvironmentVariable(\"g270\");\n",
    "var W2 = System.Environment.GetEnvironmentVariable(\"g273\");\n",
    "var Y2 = System.Environment.GetEnvironmentVariable(\"g277\");"
   ]
  },
  {
   "cell_type": "markdown",
   "metadata": {},
   "source": [
    "## ELASTIC CONNECTION"
   ]
  },
  {
   "cell_type": "code",
   "execution_count": 26,
   "metadata": {},
   "outputs": [],
   "source": [
    "var settings = new ConnectionSettings(new Uri(W1))\n",
    "    .BasicAuthentication(E1,Y1)\n",
    "    .ServerCertificateValidationCallback(CertificateValidations.AllowAll)\n",
    "    .DefaultIndex(X1)\n",
    "    .EnableDebugMode()\n",
    "    .DisableDirectStreaming()\n",
    "    .PrettyJson();\n",
    "\n",
    "var elastic = new ElasticClient(settings);"
   ]
  },
  {
   "cell_type": "markdown",
   "metadata": {},
   "source": [
    "## GRAPH DATABASE CONNECTION"
   ]
  },
  {
   "cell_type": "code",
   "execution_count": 27,
   "metadata": {},
   "outputs": [],
   "source": [
    "string connString = @\"Server=\" + W2 + \";User ID=\" + P2 + \";Password=\" + Y2 + \";Database=\" + D2 + \";\";\n",
    "\n",
    "NpgsqlConnection conn = new NpgsqlConnection(connString);\n",
    "\n",
    "conn.Open();\n",
    "\n",
    "// NpgsqlCommand cmd = new NpgsqlCommand(\"SET search_path = ag_catalog, \\\"$user\\\", public\", conn);\n",
    "\n",
    "// Int32 r = cmd.ExecuteNonQuery();\n",
    "\n",
    "NpgsqlCommand cmd = new NpgsqlCommand(\"SET TIME ZONE UTC\", conn);\n",
    "\n",
    "Int32 r = cmd.ExecuteNonQuery();"
   ]
  },
  {
   "cell_type": "markdown",
   "metadata": {},
   "source": [
    "## NODE: ACCOUNT"
   ]
  },
  {
   "cell_type": "code",
   "execution_count": 28,
   "metadata": {},
   "outputs": [],
   "source": [
    "cmd = new NpgsqlCommand(\"DROP TABLE IF EXISTS node_account\", conn);\n",
    "\n",
    "r = cmd.ExecuteNonQuery();\n",
    "\n",
    "cmd = new NpgsqlCommand(\"CREATE TABLE IF NOT EXISTS node_account (\"\n",
    "                        + \"id INT PRIMARY KEY\"\n",
    "                        + \", call UUID UNIQUE NOT NULL DEFAULT uuid_generate_v4()\"\n",
    "                        + \", userid TEXT UNIQUE NOT NULL\"\n",
    "                        + \")\", conn);\n",
    "\n",
    "r = cmd.ExecuteNonQuery();\n",
    "\n",
    "cmd = new NpgsqlCommand(\"DROP SEQUENCE IF EXISTS id_node_account_seq\", conn);\n",
    "\n",
    "r = cmd.ExecuteNonQuery();\n",
    "\n",
    "cmd = new NpgsqlCommand(\"CREATE SEQUENCE IF NOT EXISTS id_node_account_seq\", conn);\n",
    "\n",
    "r = cmd.ExecuteNonQuery();\n",
    "    \n",
    "cmd = new NpgsqlCommand(\"SELECT NEXTVAL('id_node_account_seq')\", conn);\n",
    "\n",
    "r = cmd.ExecuteNonQuery();"
   ]
  },
  {
   "cell_type": "markdown",
   "metadata": {},
   "source": [
    "## NODE: DEVICE"
   ]
  },
  {
   "cell_type": "code",
   "execution_count": 29,
   "metadata": {},
   "outputs": [],
   "source": [
    "cmd = new NpgsqlCommand(\"DROP TABLE IF EXISTS node_device\", conn);\n",
    "\n",
    "r = cmd.ExecuteNonQuery();\n",
    "\n",
    "cmd = new NpgsqlCommand(\"CREATE TABLE IF NOT EXISTS node_device (\"\n",
    "                        + \"id INT PRIMARY KEY\"\n",
    "                        + \", call UUID UNIQUE NOT NULL DEFAULT uuid_generate_v4()\"\n",
    "                        + \", devicename TEXT UNIQUE NOT NULL\"\n",
    "                        + \", devicecity TEXT NOT NULL\"\n",
    "                        + \", devicedept TEXT NOT NULL\"\n",
    "                        + \", deviceserial TEXT NOT NULL\"\n",
    "                        + \", deviceid TEXT NOT NULL\"\n",
    "                        + \", deviceosmake TEXT NOT NULL\"\n",
    "                        + \", deviceosname TEXT NOT NULL\"\n",
    "                        + \", deviceosversion TEXT NOT NULL\"\n",
    "                        + \", deviceosnumber INT NOT NULL\"\n",
    "                        + \")\", conn);\n",
    "\n",
    "r = cmd.ExecuteNonQuery();\n",
    "\n",
    "cmd = new NpgsqlCommand(\"DROP SEQUENCE IF EXISTS id_node_device_seq\", conn);\n",
    "\n",
    "r = cmd.ExecuteNonQuery();\n",
    "\n",
    "cmd = new NpgsqlCommand(\"CREATE SEQUENCE IF NOT EXISTS id_node_device_seq\", conn);\n",
    "\n",
    "r = cmd.ExecuteNonQuery();\n",
    "    \n",
    "cmd = new NpgsqlCommand(\"SELECT NEXTVAL('id_node_device_seq')\", conn);\n",
    "\n",
    "r = cmd.ExecuteNonQuery();"
   ]
  },
  {
   "cell_type": "markdown",
   "metadata": {},
   "source": [
    "## NODE: IPV4ADDRESS"
   ]
  },
  {
   "cell_type": "code",
   "execution_count": 30,
   "metadata": {},
   "outputs": [],
   "source": [
    "cmd = new NpgsqlCommand(\"DROP TABLE IF EXISTS node_ipv4address\", conn);\n",
    "\n",
    "r = cmd.ExecuteNonQuery();\n",
    "\n",
    "cmd = new NpgsqlCommand(\"CREATE TABLE IF NOT EXISTS node_ipv4address (\"\n",
    "                        + \"id INT PRIMARY KEY\"\n",
    "                        + \", call UUID UNIQUE NOT NULL DEFAULT uuid_generate_v4()\"\n",
    "                        + \", ipv4address TEXT UNIQUE NOT NULL\"\n",
    "                        + \", iso2 TEXT NOT NULL\"\n",
    "                        + \")\", conn);\n",
    "\n",
    "r = cmd.ExecuteNonQuery();\n",
    "\n",
    "cmd = new NpgsqlCommand(\"DROP SEQUENCE IF EXISTS id_node_ipv4address_seq\", conn);\n",
    "\n",
    "r = cmd.ExecuteNonQuery();\n",
    "\n",
    "cmd = new NpgsqlCommand(\"CREATE SEQUENCE IF NOT EXISTS id_node_ipv4address_seq\", conn);\n",
    "\n",
    "r = cmd.ExecuteNonQuery();\n",
    "    \n",
    "cmd = new NpgsqlCommand(\"SELECT NEXTVAL('id_node_ipv4address_seq')\", conn);\n",
    "\n",
    "r = cmd.ExecuteNonQuery();"
   ]
  },
  {
   "cell_type": "markdown",
   "metadata": {},
   "source": [
    "## EDGE: PORTALAUTH"
   ]
  },
  {
   "cell_type": "code",
   "execution_count": 31,
   "metadata": {},
   "outputs": [],
   "source": [
    "cmd = new NpgsqlCommand(\"DROP TABLE IF EXISTS edge_portalauth\", conn);\n",
    "\n",
    "r = cmd.ExecuteNonQuery();\n",
    "\n",
    "cmd = new NpgsqlCommand(\"CREATE TABLE IF NOT EXISTS edge_portalauth (\"\n",
    "                        + \"id INT PRIMARY KEY\"\n",
    "                        + \", call UUID UNIQUE NOT NULL DEFAULT uuid_generate_v4()\"\n",
    "                        + \", logdatetimetz TIMESTAMPTZ NOT NULL\"\n",
    "                        + \", account TEXT NOT NULL\"\n",
    "                        + \", devicename TEXT NOT NULL\"\n",
    "                        + \", ipv4address TEXT NOT NULL\"\n",
    "                        + \", event TEXT NOT NULL DEFAULT 'unknown'\"\n",
    "                        + \", sequence BIGINT NOT NULL DEFAULT 0\"\n",
    "                        + \", method TEXT NOT NULL DEFAULT 'unknown'\"\n",
    "                        + \", status TEXT NOT NULL DEFAULT 'unknown'\"\n",
    "                        + \", error TEXT NOT NULL DEFAULT 'unknown'\"\n",
    "                        + \")\", conn);\n",
    "\n",
    "r = cmd.ExecuteNonQuery();\n",
    "\n",
    "cmd = new NpgsqlCommand(\"DROP SEQUENCE IF EXISTS id_edge_portalauth_seq\", conn);\n",
    "\n",
    "r = cmd.ExecuteNonQuery();\n",
    "\n",
    "cmd = new NpgsqlCommand(\"CREATE SEQUENCE IF NOT EXISTS id_edge_portalauth_seq\", conn);\n",
    "\n",
    "r = cmd.ExecuteNonQuery();\n",
    "    \n",
    "cmd = new NpgsqlCommand(\"SELECT NEXTVAL('id_edge_portalauth_seq')\", conn);\n",
    "\n",
    "r = cmd.ExecuteNonQuery();"
   ]
  },
  {
   "cell_type": "markdown",
   "metadata": {},
   "source": [
    "## CONVERT LIST TO DATATABLE"
   ]
  },
  {
   "cell_type": "code",
   "execution_count": 32,
   "metadata": {},
   "outputs": [],
   "source": [
    "public static DataTable ListToDataTable<T>(IList<T> data)\n",
    "{\n",
    "    PropertyDescriptorCollection properties = TypeDescriptor.GetProperties(typeof(T));\n",
    "    DataTable table = new DataTable();\n",
    "    \n",
    "    // Get properties\n",
    "    foreach (PropertyDescriptor prop in properties)\n",
    "        table.Columns.Add(prop.Name, Nullable.GetUnderlyingType(prop.PropertyType) ?? prop.PropertyType);\n",
    "    \n",
    "    // Row\n",
    "    foreach (T item in data)\n",
    "    {\n",
    "        DataRow row = table.NewRow();\n",
    "        // Properties = Columns\n",
    "        foreach (PropertyDescriptor prop in properties)\n",
    "            row[prop.Name] = prop.GetValue(item) ?? DBNull.Value;\n",
    "        table.Rows.Add(row);\n",
    "    }\n",
    "    return table;\n",
    "}"
   ]
  },
  {
   "cell_type": "markdown",
   "metadata": {},
   "source": [
    "## INGRESS"
   ]
  },
  {
   "cell_type": "code",
   "execution_count": 33,
   "metadata": {},
   "outputs": [],
   "source": [
    "public class IngressEvent_PortalAuth\n",
    "{\n",
    "    \n",
    "    [Date(Name = \"@timestamp\")]\n",
    "    public DateTime LogDateTime { get; set; }\n",
    "\n",
    "    [Text(Name = \"Event_ID\")]\n",
    "    public String Event { get; set; }\n",
    "    \n",
    "    [Text(Name = \"Sequence_Number\")]\n",
    "    public UInt64 Sequence { get; set; }\n",
    "\n",
    "    [Text(Name = \"Authentication_Method\")]\n",
    "    public String Method { get; set; }\n",
    "    \n",
    "    [Text(Name = \"Status\")]\n",
    "    public String Status { get; set; }\n",
    "\n",
    "    [Text(Name = \"Error_Code\")]\n",
    "    public String Error { get; set; }\n",
    "    \n",
    "    [Text(Name = \"Source_User\")]\n",
    "    public String Account { get; set; }\n",
    "\n",
    "    [Text(Name = \"Public_IP\")]\n",
    "    public String IPV4Address { get; set; }\n",
    "\n",
    "    [Text(Name = \"Source_Region\")]\n",
    "    public String ISO2 { get; set; }\n",
    "\n",
    "    [Text(Name = \"Machine_Name\")]\n",
    "    public String DeviceName { get; set; }\n",
    "    \n",
    "    [Text(Name = \"Serial_Number\")]\n",
    "    public String DeviceSerial { get; set; }\n",
    "\n",
    "    [Text(Name = \"Host_ID\")]\n",
    "    public String DeviceID { get; set; }\n",
    "    \n",
    "    [Text(Name = \"Client_OS_Version\")]\n",
    "    public String DeviceOS { get; set; }\n",
    "\n",
    "}"
   ]
  },
  {
   "cell_type": "markdown",
   "metadata": {},
   "source": [
    "## EGRESS"
   ]
  },
  {
   "cell_type": "code",
   "execution_count": 34,
   "metadata": {},
   "outputs": [],
   "source": [
    "public class AccountVertex\n",
    "{\n",
    "\n",
    "    [Text(Name = \"chkEventLinkID\")]\n",
    "    public UInt64 chkEventLinkID { get; set; }\n",
    "    \n",
    "    [Text(Name = \"Account\")]\n",
    "    public String Account { get; set; }\n",
    "\n",
    "}"
   ]
  },
  {
   "cell_type": "code",
   "execution_count": 35,
   "metadata": {},
   "outputs": [],
   "source": [
    "public class DeviceVertex\n",
    "{\n",
    "    \n",
    "    [Text(Name = \"chkEventLinkID\")]\n",
    "    public UInt64 chkEventLinkID { get; set; }\n",
    "    \n",
    "    [Text(Name = \"DeviceName\")]\n",
    "    public String DeviceName { get; set; }\n",
    "    \n",
    "    [Text(Name = \"DeviceCity\")]\n",
    "    public String DeviceCity { get; set; }\n",
    "    \n",
    "    [Text(Name = \"DeviceDept\")]\n",
    "    public String DeviceDept { get; set; }\n",
    "    \n",
    "    [Text(Name = \"DeviceSerial\")]\n",
    "    public String DeviceSerial { get; set; }\n",
    "\n",
    "    [Text(Name = \"DeviceID\")]\n",
    "    public String DeviceID { get; set; }\n",
    "    \n",
    "    [Text(Name = \"DeviceOSMake\")]\n",
    "    public String DeviceOSMake { get; set; }\n",
    "    \n",
    "    [Text(Name = \"DeviceOSName\")]\n",
    "    public String DeviceOSName { get; set; }\n",
    "    \n",
    "    [Text(Name = \"DeviceOSVersion\")]\n",
    "    public String DeviceOSVersion { get; set; }\n",
    "    \n",
    "    [Text(Name = \"DeviceOSNumber\")]\n",
    "    public String DeviceOSNumber { get; set; }\n",
    "\n",
    "}"
   ]
  },
  {
   "cell_type": "code",
   "execution_count": 36,
   "metadata": {},
   "outputs": [],
   "source": [
    "public class IPV4AddressVertex\n",
    "{\n",
    "    \n",
    "    [Text(Name = \"chkEventLinkID\")]\n",
    "    public UInt64 chkEventLinkID { get; set; }\n",
    "    \n",
    "    [Text(Name = \"Public_IP\")]\n",
    "    public String IPV4Address { get; set; }\n",
    "\n",
    "    [Text(Name = \"Source_Region\")]\n",
    "    public String ISO2 { get; set; }\n",
    "\n",
    "}"
   ]
  },
  {
   "cell_type": "code",
   "execution_count": 37,
   "metadata": {},
   "outputs": [],
   "source": [
    "public class PortalAuthEdge\n",
    "{\n",
    "    \n",
    "    [Date(Name = \"LogDateTime\")]\n",
    "    public DateTime LogDateTime { get; set; }\n",
    "    \n",
    "    [Text(Name = \"Account\")]\n",
    "    public String Account { get; set; }\n",
    "    \n",
    "    [Text(Name = \"DeviceName\")]\n",
    "    public String DeviceName { get; set; }\n",
    "\n",
    "    [Text(Name = \"Public_IP\")]\n",
    "    public String IPV4Address { get; set; }\n",
    "    \n",
    "    [Text(Name = \"chkEventLinkID\")]\n",
    "    public UInt64 chkEventLinkID { get; set; }\n",
    "\n",
    "    [Text(Name = \"Event\")]\n",
    "    public String Event { get; set; }\n",
    "    \n",
    "    [Text(Name = \"Sequence\")]\n",
    "    public UInt64 Sequence { get; set; }\n",
    "\n",
    "    [Text(Name = \"Method\")]\n",
    "    public String Method { get; set; }\n",
    "    \n",
    "    [Text(Name = \"Status\")]\n",
    "    public String Status { get; set; }\n",
    "\n",
    "    [Text(Name = \"Error\")]\n",
    "    public String Error { get; set; }\n",
    "\n",
    "}"
   ]
  },
  {
   "cell_type": "code",
   "execution_count": 38,
   "metadata": {},
   "outputs": [],
   "source": [
    "// Export 24 hours of data in 10k event chunks across many runs querying the same 24 hour span.\n",
    "UInt64 RunID = 0;     // Tracks job query (runs), max 10k and zero based.\n",
    "UInt64 EventID = 0;   // Max 10000 events per query run, zero based."
   ]
  },
  {
   "cell_type": "code",
   "execution_count": 39,
   "metadata": {},
   "outputs": [],
   "source": [
    "// UInt64 chkEventLinkID   // CSV Verification Field. Format: yyyyMMddrrrrreeeee Concatenate: LogDateTime RunID EventID"
   ]
  },
  {
   "cell_type": "code",
   "execution_count": 40,
   "metadata": {},
   "outputs": [],
   "source": [
    "// UInt64 UtcNowDateInt64 = Convert.ToUInt64(DateTime.UtcNow.Date.ToString(\"yyyyMMdd\"));"
   ]
  },
  {
   "cell_type": "markdown",
   "metadata": {},
   "source": [
    "## EACH DAY"
   ]
  },
  {
   "cell_type": "code",
   "execution_count": 41,
   "metadata": {},
   "outputs": [],
   "source": [
    "public IEnumerable<DateTime> EachDay(DateTime from, DateTime thru)\n",
    "{\n",
    "    for(var day = from.Date; day.Date <= thru.Date; day = day.AddDays(1))\n",
    "        yield return day;\n",
    "}"
   ]
  },
  {
   "cell_type": "code",
   "execution_count": 42,
   "metadata": {},
   "outputs": [],
   "source": [
    "/*\n",
    "foreach (DateTime day in EachDay(StartDate, EndDate))\n",
    "    {\n",
    "//        var Date = day.ToString(\"yyyy-MM-dd\");\n",
    "//        var StartDateTimeZone = day.ToString(\"yyyy-MM-dd\") + \"T00:00:00Z\";\n",
    "//        var EndDateTimeZone = day.ToString(\"yyyy-MM-dd\") + \"T23:59:59Z\";\n",
    "//        Console.WriteLine(\"Date: \" + Date + \" \" + \"TimeRange: \" + StartDateTimeZone + \", \" + EndDateTimeZone);\n",
    "//        DateTime nextday = day.AddDays(1);\n",
    "//        Console.WriteLine(nextday);\n",
    "    }\n",
    "*/"
   ]
  },
  {
   "cell_type": "markdown",
   "metadata": {},
   "source": [
    "## TIME ZONE AMERICA/CHICAGO"
   ]
  },
  {
   "cell_type": "code",
   "execution_count": 43,
   "metadata": {},
   "outputs": [],
   "source": [
    "// Set the ingress database time zone to the same time zone as the data source (Elastic)\n",
    "\n",
    "cmd = new NpgsqlCommand(\"SET TIME ZONE 'America/Chicago'\", conn);   \n",
    "r = cmd.ExecuteNonQuery();"
   ]
  },
  {
   "cell_type": "markdown",
   "metadata": {},
   "source": [
    "## MAIN"
   ]
  },
  {
   "cell_type": "code",
   "execution_count": 44,
   "metadata": {},
   "outputs": [],
   "source": [
    "foreach (DateTime Start in EachDay(StartDateTime, EndDateTime))\n",
    "{\n",
    "    \n",
    "// var StartDateTimeZone = day.ToString(\"yyyy-MM-dd\") + \"T00:00:00Z\";\n",
    "// var EndDateTimeZone = day.ToString(\"yyyy-MM-dd\") + \"T23:59:59Z\";\n",
    "\n",
    "// ONLY INCREMENT WHEN YOU HAVE MULTIPLE RUNS IN A 24 HOUR SPAN. -jf\n",
    "// WHEN QUERY RESULTS FOR A SINGLE 24 HOUR SPAN ARE GREATER THAN 10,000 DOCUMENTS, THEN INCREMENT. -jf\n",
    "// HOWEVER, IF QUERY RESULTS ARE LESS THAN 10,000 DOCUMENTS FOR A 24 HOUR SPAN THEN NO NEED TO INCREMENT. -jf\n",
    "// RunID++; \n",
    "    \n",
    "var End = Start.AddDays(1);\n",
    "    \n",
    "var FileDate = Start.ToString(\"yyyy-MM-dd\");\n",
    "    \n",
    "var getLoginData = elastic\n",
    "                .Search<IngressEvent_PortalAuth>(s => s\n",
    "                    .Size(9000)\n",
    "                    .Query(q => q\n",
    "                        .Exists(e => e\n",
    "                            .Field(f => f.Account)\n",
    "                          ) && +q\n",
    "                        .MatchPhrase(m => m\n",
    "                            .Field(f => f.Event)\n",
    "                            .Query(\"portal-auth\")\n",
    "                          ) && +q\n",
    "                        .DateRange(r => r\n",
    "                            .Field(f => f.LogDateTime)\n",
    "                            .GreaterThanOrEquals(Start)\n",
    "                            .LessThanOrEquals(End)\n",
    "                            .Format(\"strict_date_optional_time\")\n",
    "                        )\n",
    "                    )\n",
    "                );\n",
    "\n",
    "\n",
    "\n",
    "//  ACCOUNT VERTEX\n",
    "    \n",
    "    \n",
    "    \n",
    "EventID = 0;\n",
    "\n",
    "List<AccountVertex> lstAccountData = new List<AccountVertex>();\n",
    "\n",
    "foreach (var hit in getLoginData.Hits)\n",
    "{\n",
    "\n",
    "    if ( hit.Source.Account != null && hit.Source.DeviceOS != null && hit.Source.DeviceName != null )\n",
    "    {\n",
    "        \n",
    "        lstAccountData.Add(new AccountVertex {\n",
    "            chkEventLinkID = (((Convert.ToUInt64(hit.Source.LogDateTime.ToString(\"yyyyMMdd\")) * 10000) + RunID) * 10000) + EventID,\n",
    "            Account = Regex.Replace(hit.Source.Account, @\"^(.*\\\\)(.*)$\", \"$2\" )\n",
    "        });\n",
    "        \n",
    "        EventID++;\n",
    "    }\n",
    "}\n",
    "\n",
    "\n",
    "using (var writer_jf = new StreamWriter( F1 + FileDate + \"Accounts.csv\" ))\n",
    "using (var csv_jf = new CsvWriter(writer_jf, CultureInfo.InvariantCulture ))\n",
    "    csv_jf.WriteRecords(lstAccountData);\n",
    "\n",
    "\n",
    "var dtAccountData = ListToDataTable(lstAccountData);\n",
    "    \n",
    "// Console.WriteLine(dtAccountData.Rows.Count);\n",
    "\n",
    "    \n",
    "numBeforeInsert = 0;\n",
    "numAfterInsert = 0;\n",
    "sql = \"\";\n",
    "\n",
    "    \n",
    "for (int i = 0; i < dtAccountData.Rows.Count; i++)\n",
    "{\n",
    "    cmd = new NpgsqlCommand(\"SELECT COUNT(*) FROM node_account\", conn);\n",
    "    numBeforeInsert = (Int32)(long) cmd.ExecuteScalar();\n",
    "    \n",
    "    sql = \"INSERT INTO node_account (id, userid) VALUES (\"\n",
    "        + \"(SELECT CURRVAL('id_node_account_seq')),\"\n",
    "        + \"'\" + dtAccountData.Rows[i][\"Account\"].ToString().Trim() + \"')\"\n",
    "        + \"ON CONFLICT (userid) DO NOTHING\"\n",
    "        + \"; \";\n",
    "    \n",
    "    cmd = new NpgsqlCommand(sql, conn);\n",
    "    r = cmd.ExecuteNonQuery();\n",
    "    \n",
    "    cmd = new NpgsqlCommand(\"SELECT COUNT(*) FROM node_account\", conn);\n",
    "    numAfterInsert = (Int32)(long) cmd.ExecuteScalar();\n",
    "    \n",
    "    if (numAfterInsert > numBeforeInsert) {\n",
    "        cmd = new NpgsqlCommand(\"SELECT NEXTVAL('id_node_account_seq')\", conn);\n",
    "        r = cmd.ExecuteNonQuery();\n",
    "    }\n",
    "}\n",
    "\n",
    "    \n",
    "    \n",
    "//  DEVICE VERTEX\n",
    "    \n",
    "    \n",
    "    \n",
    "EventID = 0;\n",
    "\n",
    "List<DeviceVertex> lstDeviceData = new List<DeviceVertex>();\n",
    "\n",
    "foreach (var hit in getLoginData.Hits)\n",
    "{\n",
    "    if ( hit.Source.Account != null && hit.Source.DeviceOS != null && hit.Source.DeviceName != null )\n",
    "    {\n",
    "        \n",
    "        lstDeviceData.Add(new DeviceVertex {\n",
    "            chkEventLinkID = (((Convert.ToUInt64(hit.Source.LogDateTime.ToString(\"yyyyMMdd\")) * 10000) + RunID) * 10000) + EventID,\n",
    "            DeviceName = hit.Source.DeviceName.ToUpper(),\n",
    "            DeviceCity = Regex.Replace(hit.Source.DeviceName, @\"^(.{3}).*$\", \"$1\").ToUpper(),\n",
    "            DeviceDept = Regex.Replace(hit.Source.DeviceName, @\".*(.{4})$\", \"$1\").ToUpper(),\n",
    "            DeviceSerial = hit.Source.DeviceSerial,\n",
    "            DeviceID = hit.Source.DeviceID,\n",
    "            DeviceOSMake = Regex.Replace(hit.Source.DeviceOS, @\"^.*?(\\w+).*?$\", \"$1\"),\n",
    "            DeviceOSName = Regex.Replace(Regex.Replace(hit.Source.DeviceOS, @\"^.*?(\\w+).*?([^\\d]+).*?$\", \"$2\"), @\"[\\s]\", \"\"),\n",
    "            DeviceOSVersion = Regex.Replace(hit.Source.DeviceOS, @\"^.*?([\\d.]+).*?$\", \"$1\"),\n",
    "            DeviceOSNumber = Regex.Replace(Regex.Replace(hit.Source.DeviceOS, @\"^.*?([\\d.]+).*?$\", \"$1\"), @\"[.]\", \"\")\n",
    "        });\n",
    "        \n",
    "        EventID++;\n",
    "    }\n",
    "}\n",
    "\n",
    "\n",
    "using (var writer_jf = new StreamWriter( F1 + FileDate + \"Devices.csv\" ))\n",
    "using (var csv_jf = new CsvWriter(writer_jf, CultureInfo.InvariantCulture ))\n",
    "    csv_jf.WriteRecords(lstDeviceData);\n",
    "\n",
    "\n",
    "var dtDeviceData = ListToDataTable(lstDeviceData);\n",
    "    \n",
    "    \n",
    "numBeforeInsert = 0;\n",
    "numAfterInsert = 0;\n",
    "sql = \"\";\n",
    "\n",
    "\n",
    "for (int i = 0; i < dtDeviceData.Rows.Count; i++)\n",
    "{\n",
    "    cmd = new NpgsqlCommand(\"SELECT COUNT(*) FROM node_device\", conn);\n",
    "    numBeforeInsert = (Int32)(long) cmd.ExecuteScalar();\n",
    "    \n",
    "    sql = \"INSERT INTO node_device (\"\n",
    "        + \"id\"\n",
    "        + \", devicename\"\n",
    "        + \", devicecity\"\n",
    "        + \", devicedept\"\n",
    "        + \", deviceserial\"\n",
    "        + \", deviceid\"\n",
    "        + \", deviceosmake\"\n",
    "        + \", deviceosname\"\n",
    "        + \", deviceosversion\"\n",
    "        + \", deviceosnumber\"\n",
    "        + \") VALUES (\"\n",
    "        + \"(SELECT CURRVAL('id_node_device_seq'))\"\n",
    "        + \", '\" + dtDeviceData.Rows[i][\"DeviceName\"].ToString().Trim() + \"'\"\n",
    "        + \", '\" + dtDeviceData.Rows[i][\"DeviceCity\"].ToString().Trim() + \"'\"\n",
    "        + \", '\" + dtDeviceData.Rows[i][\"DeviceDept\"].ToString().Trim() + \"'\"\n",
    "        + \", '\" + dtDeviceData.Rows[i][\"DeviceSerial\"].ToString().Trim() + \"'\"\n",
    "        + \", '\" + dtDeviceData.Rows[i][\"DeviceID\"].ToString().Trim() + \"'\"\n",
    "        + \", '\" + dtDeviceData.Rows[i][\"DeviceOSMake\"].ToString().Trim() + \"'\"\n",
    "        + \", '\" + dtDeviceData.Rows[i][\"DeviceOSName\"].ToString().Trim() + \"'\"\n",
    "        + \", '\" + dtDeviceData.Rows[i][\"DeviceOSVersion\"].ToString().Trim() + \"'\"\n",
    "        + \", \" + dtDeviceData.Rows[i][\"DeviceOSNumber\"]\n",
    "        + \")\"\n",
    "        + \"ON CONFLICT (devicename) DO NOTHING\"\n",
    "        + \"; \";\n",
    "    \n",
    "    cmd = new NpgsqlCommand(sql, conn);\n",
    "    r = cmd.ExecuteNonQuery();\n",
    "    \n",
    "    cmd = new NpgsqlCommand(\"SELECT COUNT(*) FROM node_device\", conn);\n",
    "    numAfterInsert = (Int32)(long) cmd.ExecuteScalar();\n",
    "    \n",
    "    if (numAfterInsert > numBeforeInsert ) {\n",
    "        cmd = new NpgsqlCommand(\"SELECT NEXTVAL('id_node_device_seq')\", conn);\n",
    "        r = cmd.ExecuteNonQuery();\n",
    "    }\n",
    "}    \n",
    "\n",
    "\n",
    "\n",
    "// IPV4ADDRESS VERTEX\n",
    "    \n",
    "    \n",
    "EventID = 0;\n",
    "\n",
    "List<IPV4AddressVertex> lstIPV4AddressData = new List<IPV4AddressVertex>();\n",
    "\n",
    "foreach (var hit in getLoginData.Hits)\n",
    "{\n",
    "\n",
    "    if ( hit.Source.Account != null && hit.Source.DeviceOS != null && hit.Source.DeviceName != null )\n",
    "    {\n",
    "        \n",
    "        lstIPV4AddressData.Add(new IPV4AddressVertex {\n",
    "            chkEventLinkID = (((Convert.ToUInt64(hit.Source.LogDateTime.ToString(\"yyyyMMdd\")) * 10000) + RunID) * 10000) + EventID,\n",
    "            IPV4Address = hit.Source.IPV4Address,\n",
    "            ISO2 = hit.Source.ISO2\n",
    "        });\n",
    "        \n",
    "        EventID++;\n",
    "    }\n",
    "}\n",
    "\n",
    "\n",
    "using (var writer_jf = new StreamWriter( F1 + FileDate + \"IPV4Addresses.csv\" ))\n",
    "using (var csv_jf = new CsvWriter(writer_jf, CultureInfo.InvariantCulture ))\n",
    "    csv_jf.WriteRecords(lstIPV4AddressData);\n",
    "\n",
    "    \n",
    "var dtIPV4AddressData = ListToDataTable(lstIPV4AddressData);\n",
    "\n",
    "    \n",
    "numBeforeInsert = 0;\n",
    "numAfterInsert = 0;\n",
    "sql = \"\";\n",
    "\n",
    "\n",
    "for (int i = 0; i < dtIPV4AddressData.Rows.Count; i++)\n",
    "{\n",
    "    cmd = new NpgsqlCommand(\"SELECT COUNT(*) FROM node_ipv4address\", conn);\n",
    "    numBeforeInsert = (Int32)(long) cmd.ExecuteScalar();\n",
    "    \n",
    "    sql = \"INSERT INTO node_ipv4address (id, ipv4address, iso2) VALUES (\"\n",
    "        + \"(SELECT CURRVAL('id_node_ipv4address_seq'))\"\n",
    "        + \", '\" + dtIPV4AddressData.Rows[i][\"IPV4Address\"].ToString().Trim() + \"'\"\n",
    "        + \", '\" + dtIPV4AddressData.Rows[i][\"ISO2\"].ToString().Trim() + \"'\"\n",
    "        + \")\"\n",
    "        + \"ON CONFLICT (ipv4address) DO NOTHING\"\n",
    "        + \"; \";\n",
    "    \n",
    "    cmd = new NpgsqlCommand(sql, conn);\n",
    "    r = cmd.ExecuteNonQuery();\n",
    "    \n",
    "    cmd = new NpgsqlCommand(\"SELECT COUNT(*) FROM node_ipv4address\", conn);\n",
    "    numAfterInsert = (Int32)(long) cmd.ExecuteScalar();\n",
    "    \n",
    "    if (numAfterInsert > numBeforeInsert) {\n",
    "        cmd = new NpgsqlCommand(\"SELECT NEXTVAL('id_node_ipv4address_seq')\", conn);\n",
    "        r = cmd.ExecuteNonQuery();\n",
    "    }\n",
    "}\n",
    "\n",
    "\n",
    "\n",
    "// PORTALAUTH EDGE\n",
    "\n",
    "    \n",
    "\n",
    "\n",
    "EventID = 0;\n",
    "\n",
    "List<PortalAuthEdge> lstPortalAuthData = new List<PortalAuthEdge>();\n",
    "\n",
    "foreach (var hit in getLoginData.Hits)\n",
    "{\n",
    "\n",
    "    if ( hit.Source.Account != null && hit.Source.DeviceOS != null && hit.Source.DeviceName != null )\n",
    "    {\n",
    "        lstPortalAuthData.Add(new PortalAuthEdge {\n",
    "            LogDateTime = hit.Source.LogDateTime,\n",
    "            Account = Regex.Replace(hit.Source.Account, @\"^(.*\\\\)(.*)$\", \"$2\" ),\n",
    "            DeviceName = hit.Source.DeviceName.ToUpper(),\n",
    "            IPV4Address = hit.Source.IPV4Address,\n",
    "            chkEventLinkID = (((Convert.ToUInt64(hit.Source.LogDateTime.ToString(\"yyyyMMdd\")) * 10000) + RunID) * 10000) + EventID,\n",
    "            Event = hit.Source.Event,\n",
    "            Sequence = hit.Source.Sequence,\n",
    "            Method = hit.Source.Method,\n",
    "            Status = hit.Source.Status,\n",
    "            Error = hit.Source.Error\n",
    "        });\n",
    "        \n",
    "        EventID++;\n",
    "    }\n",
    "}\n",
    "\n",
    "\n",
    "using (var writer_jf = new StreamWriter( F1 + FileDate + \"PortalAuthEdges.csv\" ))\n",
    "using (var csv_jf = new CsvWriter(writer_jf, CultureInfo.InvariantCulture ))\n",
    "    csv_jf.WriteRecords(lstPortalAuthData);\n",
    "\n",
    "    \n",
    "var dtPortalAuthData = ListToDataTable(lstPortalAuthData);\n",
    "\n",
    "    \n",
    "numBeforeInsert = 0;\n",
    "numAfterInsert = 0;\n",
    "sql = \"\";\n",
    "    \n",
    "    \n",
    "for (int i = 0; i < dtPortalAuthData.Rows.Count; i++)\n",
    "{\n",
    "    cmd = new NpgsqlCommand(\"SELECT COUNT(*) FROM edge_portalauth\", conn);\n",
    "    numBeforeInsert = (Int32)(long) cmd.ExecuteScalar();\n",
    "    \n",
    "    sql = \"INSERT INTO edge_portalauth (\"\n",
    "        + \"id\"\n",
    "        + \", logdatetimetz\"\n",
    "        + \", account\"\n",
    "        + \", devicename\"\n",
    "        + \", ipv4address\"\n",
    "        + \", event\"\n",
    "        + \", sequence\"\n",
    "        + \", method\"\n",
    "        + \", status\"\n",
    "        + \", error\"\n",
    "        + \") VALUES (\"\n",
    "        + \"(SELECT CURRVAL('id_edge_portalauth_seq'))\"\n",
    "        + \", '\" + dtPortalAuthData.Rows[i][\"LogDateTime\"].ToString().Trim() + \"'\"\n",
    "        + \", '\" + dtPortalAuthData.Rows[i][\"Account\"].ToString().Trim() + \"'\"\n",
    "        + \", '\" + dtPortalAuthData.Rows[i][\"DeviceName\"].ToString().Trim() + \"'\"\n",
    "        + \", '\" + dtPortalAuthData.Rows[i][\"IPV4Address\"].ToString().Trim() + \"'\"\n",
    "        + \", '\" + dtPortalAuthData.Rows[i][\"Event\"].ToString().Trim() + \"'\"\n",
    "        + \", '\" + dtPortalAuthData.Rows[i][\"Sequence\"] + \"'\"\n",
    "        + \", '\" + dtPortalAuthData.Rows[i][\"Method\"].ToString().Trim() + \"'\"\n",
    "        + \", '\" + dtPortalAuthData.Rows[i][\"Status\"].ToString().Trim() + \"'\"\n",
    "        + \", '\" + dtPortalAuthData.Rows[i][\"Error\"].ToString().Trim() + \"'\"\n",
    "        + \");\";\n",
    "    \n",
    "    cmd = new NpgsqlCommand(sql, conn);\n",
    "    r = cmd.ExecuteNonQuery();\n",
    "    \n",
    "    cmd = new NpgsqlCommand(\"SELECT COUNT(*) FROM edge_portalauth\", conn);\n",
    "    numAfterInsert = (Int32)(long) cmd.ExecuteScalar();\n",
    "    \n",
    "    if (numAfterInsert > numBeforeInsert) {\n",
    "        cmd = new NpgsqlCommand(\"SELECT NEXTVAL('id_edge_portalauth_seq')\", conn);\n",
    "        r = cmd.ExecuteNonQuery();\n",
    "    }\n",
    "}\n",
    "    \n",
    "    \n",
    "}   // Main foreach\n",
    "\n",
    "// RunID++; // More jobs... if needed to extract 10k records at a time."
   ]
  },
  {
   "cell_type": "markdown",
   "metadata": {},
   "source": [
    "## UTC"
   ]
  },
  {
   "cell_type": "code",
   "execution_count": 45,
   "metadata": {},
   "outputs": [],
   "source": [
    "cmd = new NpgsqlCommand(\"SET TIME ZONE UTC\", conn);   \n",
    "r = cmd.ExecuteNonQuery();"
   ]
  },
  {
   "cell_type": "code",
   "execution_count": null,
   "metadata": {},
   "outputs": [],
   "source": []
  },
  {
   "cell_type": "code",
   "execution_count": null,
   "metadata": {},
   "outputs": [],
   "source": []
  },
  {
   "cell_type": "code",
   "execution_count": 46,
   "metadata": {},
   "outputs": [],
   "source": [
    "/*********************************************/"
   ]
  },
  {
   "cell_type": "code",
   "execution_count": null,
   "metadata": {},
   "outputs": [],
   "source": []
  },
  {
   "cell_type": "code",
   "execution_count": null,
   "metadata": {},
   "outputs": [],
   "source": []
  }
 ],
 "metadata": {
  "kernelspec": {
   "display_name": ".NET (C#)",
   "language": "C#",
   "name": ".net-csharp"
  },
  "language_info": {
   "file_extension": ".cs",
   "mimetype": "text/x-csharp",
   "name": "C#",
   "pygments_lexer": "csharp",
   "version": "9.0"
  }
 },
 "nbformat": 4,
 "nbformat_minor": 4
}
